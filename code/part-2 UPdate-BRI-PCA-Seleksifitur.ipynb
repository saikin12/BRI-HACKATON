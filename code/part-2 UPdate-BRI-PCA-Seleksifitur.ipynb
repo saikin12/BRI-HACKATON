{
 "cells": [
  {
   "cell_type": "code",
   "execution_count": 1,
   "metadata": {
    "_cell_guid": "b1076dfc-b9ad-4769-8c92-a6c4dae69d19",
    "_uuid": "8f2839f25d086af736a60e9eeb907d3b93b6e0e5"
   },
   "outputs": [],
   "source": [
    "# This Python 3 environment comes with many helpful analytics libraries installed\n",
    "# It is defined by the kaggle/python Docker image: https://github.com/kaggle/docker-python\n",
    "# For example, here's several helpful packages to load\n",
    "\n",
    "import numpy as np # linear algebra\n",
    "import pandas as pd # data processing, CSV file I/O (e.g. pd.read_csv)\n",
    "\n",
    "# Input data files are available in the read-only \"../input/\" directory\n",
    "# For example, running this (by clicking run or pressing Shift+Enter) will list all files under the input directory\n",
    "\n",
    "import os\n",
    "for dirname, _, filenames in os.walk('/kaggle/input'):\n",
    "    for filename in filenames:\n",
    "        print(os.path.join(dirname, filename))\n",
    "\n",
    "# You can write up to 20GB to the current directory (/kaggle/working/) that gets preserved as output when you create a version using \"Save & Run All\" \n",
    "# You can also write temporary files to /kaggle/temp/, but they won't be saved outside of the current session"
   ]
  },
  {
   "cell_type": "code",
   "execution_count": 2,
   "metadata": {
    "_cell_guid": "79c7e3d0-c299-4dcb-8224-4455121ee9b0",
    "_uuid": "d629ff2d2480ee46fbb7e2d37f6b5fab8052498a"
   },
   "outputs": [],
   "source": [
    "import seaborn as sns\n",
    "import matplotlib.pyplot as plt\n",
    "from sklearn.preprocessing import StandardScaler\n",
    "from sklearn.model_selection import train_test_split\n",
    "from sklearn.ensemble import RandomForestClassifier, ExtraTreesClassifier\n",
    "from sklearn.svm import SVC\n",
    "from sklearn.model_selection import GridSearchCV\n",
    "from sklearn.model_selection import RandomizedSearchCV\n",
    "from sklearn.metrics import confusion_matrix, classification_report, plot_roc_curve, accuracy_score, f1_score,roc_auc_score"
   ]
  },
  {
   "cell_type": "code",
   "execution_count": 3,
   "metadata": {},
   "outputs": [
    {
     "name": "stdout",
     "output_type": "stream",
     "text": [
      "(22005, 30)\n",
      "(6000, 29)\n"
     ]
    }
   ],
   "source": [
    "df_train = 'train.csv'\n",
    "df_test = 'test.csv'\n",
    "\n",
    "data_train = pd.read_csv(df_train)\n",
    "data_test = pd.read_csv(df_test)\n",
    "\n",
    "print(data_train.shape)\n",
    "print(data_test.shape)"
   ]
  },
  {
   "cell_type": "code",
   "execution_count": 4,
   "metadata": {},
   "outputs": [
    {
     "data": {
      "text/html": [
       "<div>\n",
       "<style scoped>\n",
       "    .dataframe tbody tr th:only-of-type {\n",
       "        vertical-align: middle;\n",
       "    }\n",
       "\n",
       "    .dataframe tbody tr th {\n",
       "        vertical-align: top;\n",
       "    }\n",
       "\n",
       "    .dataframe thead th {\n",
       "        text-align: right;\n",
       "    }\n",
       "</style>\n",
       "<table border=\"1\" class=\"dataframe\">\n",
       "  <thead>\n",
       "    <tr style=\"text-align: right;\">\n",
       "      <th></th>\n",
       "      <th>job_level</th>\n",
       "      <th>job_duration_in_current_job_level</th>\n",
       "      <th>person_level</th>\n",
       "      <th>job_duration_in_current_person_level</th>\n",
       "      <th>job_duration_in_current_branch</th>\n",
       "      <th>Employee_type</th>\n",
       "      <th>Employee_status</th>\n",
       "      <th>gender</th>\n",
       "      <th>age</th>\n",
       "      <th>marital_status_maried(Y/N)</th>\n",
       "      <th>...</th>\n",
       "      <th>assign_of_otherposition</th>\n",
       "      <th>annual leave</th>\n",
       "      <th>sick_leaves</th>\n",
       "      <th>Best Performance</th>\n",
       "      <th>Avg_achievement_%</th>\n",
       "      <th>Last_achievement_%</th>\n",
       "      <th>Achievement_above_100%_during3quartal</th>\n",
       "      <th>achievement_target_1</th>\n",
       "      <th>achievement_target_2</th>\n",
       "      <th>achievement_target_3</th>\n",
       "    </tr>\n",
       "  </thead>\n",
       "  <tbody>\n",
       "    <tr>\n",
       "      <th>0</th>\n",
       "      <td>JG05</td>\n",
       "      <td>8.00</td>\n",
       "      <td>PG06</td>\n",
       "      <td>8.00</td>\n",
       "      <td>0.50</td>\n",
       "      <td>RM_type_A</td>\n",
       "      <td>Permanent</td>\n",
       "      <td>Female</td>\n",
       "      <td>1964</td>\n",
       "      <td>Y</td>\n",
       "      <td>...</td>\n",
       "      <td>0</td>\n",
       "      <td>8</td>\n",
       "      <td>0</td>\n",
       "      <td>0</td>\n",
       "      <td>68.85</td>\n",
       "      <td>72.53</td>\n",
       "      <td>0.0</td>\n",
       "      <td>achiev_50%-100%</td>\n",
       "      <td>achiev_&lt; 50%</td>\n",
       "      <td>reached</td>\n",
       "    </tr>\n",
       "    <tr>\n",
       "      <th>1</th>\n",
       "      <td>JG04</td>\n",
       "      <td>5.17</td>\n",
       "      <td>PG04</td>\n",
       "      <td>2.00</td>\n",
       "      <td>1.25</td>\n",
       "      <td>RM_type_A</td>\n",
       "      <td>Permanent</td>\n",
       "      <td>Male</td>\n",
       "      <td>1979</td>\n",
       "      <td>Y</td>\n",
       "      <td>...</td>\n",
       "      <td>9</td>\n",
       "      <td>3</td>\n",
       "      <td>0</td>\n",
       "      <td>0</td>\n",
       "      <td>94.81</td>\n",
       "      <td>101.13</td>\n",
       "      <td>3.0</td>\n",
       "      <td>achiev_50%-100%</td>\n",
       "      <td>achiev_50%-100%</td>\n",
       "      <td>reached</td>\n",
       "    </tr>\n",
       "    <tr>\n",
       "      <th>2</th>\n",
       "      <td>JG04</td>\n",
       "      <td>1.83</td>\n",
       "      <td>PG03</td>\n",
       "      <td>1.83</td>\n",
       "      <td>1.50</td>\n",
       "      <td>RM_type_A</td>\n",
       "      <td>Permanent</td>\n",
       "      <td>Male</td>\n",
       "      <td>1980</td>\n",
       "      <td>Y</td>\n",
       "      <td>...</td>\n",
       "      <td>0</td>\n",
       "      <td>6</td>\n",
       "      <td>0</td>\n",
       "      <td>0</td>\n",
       "      <td>72.82</td>\n",
       "      <td>71.30</td>\n",
       "      <td>0.0</td>\n",
       "      <td>achiev_100%-150%</td>\n",
       "      <td>achiev_&lt; 50%</td>\n",
       "      <td>not_reached</td>\n",
       "    </tr>\n",
       "    <tr>\n",
       "      <th>3</th>\n",
       "      <td>JG04</td>\n",
       "      <td>7.92</td>\n",
       "      <td>PG04</td>\n",
       "      <td>4.00</td>\n",
       "      <td>0.17</td>\n",
       "      <td>RM_type_A</td>\n",
       "      <td>Permanent</td>\n",
       "      <td>Male</td>\n",
       "      <td>1984</td>\n",
       "      <td>Y</td>\n",
       "      <td>...</td>\n",
       "      <td>0</td>\n",
       "      <td>3</td>\n",
       "      <td>0</td>\n",
       "      <td>0</td>\n",
       "      <td>86.89</td>\n",
       "      <td>90.09</td>\n",
       "      <td>2.0</td>\n",
       "      <td>achiev_50%-100%</td>\n",
       "      <td>achiev_50%-100%</td>\n",
       "      <td>not_reached</td>\n",
       "    </tr>\n",
       "    <tr>\n",
       "      <th>4</th>\n",
       "      <td>JG04</td>\n",
       "      <td>1.83</td>\n",
       "      <td>PG03</td>\n",
       "      <td>1.83</td>\n",
       "      <td>2.08</td>\n",
       "      <td>RM_type_A</td>\n",
       "      <td>Permanent</td>\n",
       "      <td>Male</td>\n",
       "      <td>1984</td>\n",
       "      <td>Y</td>\n",
       "      <td>...</td>\n",
       "      <td>11</td>\n",
       "      <td>2</td>\n",
       "      <td>1</td>\n",
       "      <td>1</td>\n",
       "      <td>95.17</td>\n",
       "      <td>100.72</td>\n",
       "      <td>2.0</td>\n",
       "      <td>achiev_&lt; 50%</td>\n",
       "      <td>achiev_&gt; 1.5</td>\n",
       "      <td>not_reached</td>\n",
       "    </tr>\n",
       "  </tbody>\n",
       "</table>\n",
       "<p>5 rows × 30 columns</p>\n",
       "</div>"
      ],
      "text/plain": [
       "  job_level  job_duration_in_current_job_level person_level  \\\n",
       "0      JG05                               8.00         PG06   \n",
       "1      JG04                               5.17         PG04   \n",
       "2      JG04                               1.83         PG03   \n",
       "3      JG04                               7.92         PG04   \n",
       "4      JG04                               1.83         PG03   \n",
       "\n",
       "   job_duration_in_current_person_level  job_duration_in_current_branch  \\\n",
       "0                                  8.00                            0.50   \n",
       "1                                  2.00                            1.25   \n",
       "2                                  1.83                            1.50   \n",
       "3                                  4.00                            0.17   \n",
       "4                                  1.83                            2.08   \n",
       "\n",
       "  Employee_type Employee_status  gender   age marital_status_maried(Y/N)  ...  \\\n",
       "0     RM_type_A       Permanent  Female  1964                          Y  ...   \n",
       "1     RM_type_A       Permanent    Male  1979                          Y  ...   \n",
       "2     RM_type_A       Permanent    Male  1980                          Y  ...   \n",
       "3     RM_type_A       Permanent    Male  1984                          Y  ...   \n",
       "4     RM_type_A       Permanent    Male  1984                          Y  ...   \n",
       "\n",
       "   assign_of_otherposition  annual leave  sick_leaves Best Performance  \\\n",
       "0                        0             8            0                0   \n",
       "1                        9             3            0                0   \n",
       "2                        0             6            0                0   \n",
       "3                        0             3            0                0   \n",
       "4                       11             2            1                1   \n",
       "\n",
       "   Avg_achievement_% Last_achievement_%  \\\n",
       "0              68.85              72.53   \n",
       "1              94.81             101.13   \n",
       "2              72.82              71.30   \n",
       "3              86.89              90.09   \n",
       "4              95.17             100.72   \n",
       "\n",
       "   Achievement_above_100%_during3quartal  achievement_target_1  \\\n",
       "0                                    0.0       achiev_50%-100%   \n",
       "1                                    3.0       achiev_50%-100%   \n",
       "2                                    0.0      achiev_100%-150%   \n",
       "3                                    2.0       achiev_50%-100%   \n",
       "4                                    2.0          achiev_< 50%   \n",
       "\n",
       "   achievement_target_2  achievement_target_3  \n",
       "0          achiev_< 50%               reached  \n",
       "1       achiev_50%-100%               reached  \n",
       "2          achiev_< 50%           not_reached  \n",
       "3       achiev_50%-100%           not_reached  \n",
       "4          achiev_> 1.5           not_reached  \n",
       "\n",
       "[5 rows x 30 columns]"
      ]
     },
     "execution_count": 4,
     "metadata": {},
     "output_type": "execute_result"
    }
   ],
   "source": [
    "data_train.head()"
   ]
  },
  {
   "cell_type": "code",
   "execution_count": 5,
   "metadata": {},
   "outputs": [
    {
     "data": {
      "text/html": [
       "<div>\n",
       "<style scoped>\n",
       "    .dataframe tbody tr th:only-of-type {\n",
       "        vertical-align: middle;\n",
       "    }\n",
       "\n",
       "    .dataframe tbody tr th {\n",
       "        vertical-align: top;\n",
       "    }\n",
       "\n",
       "    .dataframe thead th {\n",
       "        text-align: right;\n",
       "    }\n",
       "</style>\n",
       "<table border=\"1\" class=\"dataframe\">\n",
       "  <thead>\n",
       "    <tr style=\"text-align: right;\">\n",
       "      <th></th>\n",
       "      <th>job_level</th>\n",
       "      <th>job_duration_in_current_job_level</th>\n",
       "      <th>person_level</th>\n",
       "      <th>job_duration_in_current_person_level</th>\n",
       "      <th>job_duration_in_current_branch</th>\n",
       "      <th>Employee_type</th>\n",
       "      <th>Employee_status</th>\n",
       "      <th>gender</th>\n",
       "      <th>age</th>\n",
       "      <th>marital_status_maried(Y/N)</th>\n",
       "      <th>...</th>\n",
       "      <th>job_rotation</th>\n",
       "      <th>assign_of_otherposition</th>\n",
       "      <th>annual leave</th>\n",
       "      <th>sick_leaves</th>\n",
       "      <th>Avg_achievement_%</th>\n",
       "      <th>Last_achievement_%</th>\n",
       "      <th>Achievement_above_100%_during3quartal</th>\n",
       "      <th>achievement_target_1</th>\n",
       "      <th>achievement_target_2</th>\n",
       "      <th>achievement_target_3</th>\n",
       "    </tr>\n",
       "  </thead>\n",
       "  <tbody>\n",
       "    <tr>\n",
       "      <th>0</th>\n",
       "      <td>JG05</td>\n",
       "      <td>1.42</td>\n",
       "      <td>PG05</td>\n",
       "      <td>1.42</td>\n",
       "      <td>0.5</td>\n",
       "      <td>RM_type_C</td>\n",
       "      <td>Permanent</td>\n",
       "      <td>Female</td>\n",
       "      <td>1983</td>\n",
       "      <td>Y</td>\n",
       "      <td>...</td>\n",
       "      <td>9</td>\n",
       "      <td>1</td>\n",
       "      <td>3</td>\n",
       "      <td>1</td>\n",
       "      <td>79.506667</td>\n",
       "      <td>94.17</td>\n",
       "      <td>1.0</td>\n",
       "      <td>achiev_50%-100%</td>\n",
       "      <td>achiev_&lt; 50%</td>\n",
       "      <td>reached</td>\n",
       "    </tr>\n",
       "    <tr>\n",
       "      <th>1</th>\n",
       "      <td>JG04</td>\n",
       "      <td>1.58</td>\n",
       "      <td>PG03</td>\n",
       "      <td>1.58</td>\n",
       "      <td>2.0</td>\n",
       "      <td>RM_type_A</td>\n",
       "      <td>Permanent</td>\n",
       "      <td>Male</td>\n",
       "      <td>1988</td>\n",
       "      <td>N</td>\n",
       "      <td>...</td>\n",
       "      <td>2</td>\n",
       "      <td>2</td>\n",
       "      <td>4</td>\n",
       "      <td>1</td>\n",
       "      <td>54.283333</td>\n",
       "      <td>42.97</td>\n",
       "      <td>0.0</td>\n",
       "      <td>Pencapaian &lt; 50%</td>\n",
       "      <td>Pencapaian &lt; 50%</td>\n",
       "      <td>reached</td>\n",
       "    </tr>\n",
       "    <tr>\n",
       "      <th>2</th>\n",
       "      <td>JG04</td>\n",
       "      <td>1.83</td>\n",
       "      <td>PG03</td>\n",
       "      <td>1.83</td>\n",
       "      <td>1.5</td>\n",
       "      <td>RM_type_A</td>\n",
       "      <td>Permanent</td>\n",
       "      <td>Male</td>\n",
       "      <td>1988</td>\n",
       "      <td>Y</td>\n",
       "      <td>...</td>\n",
       "      <td>2</td>\n",
       "      <td>0</td>\n",
       "      <td>2</td>\n",
       "      <td>0</td>\n",
       "      <td>43.016667</td>\n",
       "      <td>44.28</td>\n",
       "      <td>0.0</td>\n",
       "      <td>achiev_50%-100%</td>\n",
       "      <td>achiev_&lt; 50%</td>\n",
       "      <td>reached</td>\n",
       "    </tr>\n",
       "    <tr>\n",
       "      <th>3</th>\n",
       "      <td>JG05</td>\n",
       "      <td>8.00</td>\n",
       "      <td>PG06</td>\n",
       "      <td>5.00</td>\n",
       "      <td>1.5</td>\n",
       "      <td>RM_type_A</td>\n",
       "      <td>Permanent</td>\n",
       "      <td>Male</td>\n",
       "      <td>1973</td>\n",
       "      <td>Y</td>\n",
       "      <td>...</td>\n",
       "      <td>5</td>\n",
       "      <td>11</td>\n",
       "      <td>3</td>\n",
       "      <td>0</td>\n",
       "      <td>74.390000</td>\n",
       "      <td>80.93</td>\n",
       "      <td>0.0</td>\n",
       "      <td>Pencapaian 50%-100%</td>\n",
       "      <td>Pencapaian &lt; 50%</td>\n",
       "      <td>not reached</td>\n",
       "    </tr>\n",
       "    <tr>\n",
       "      <th>4</th>\n",
       "      <td>JG04</td>\n",
       "      <td>1.92</td>\n",
       "      <td>PG03</td>\n",
       "      <td>1.92</td>\n",
       "      <td>0.5</td>\n",
       "      <td>RM_type_A</td>\n",
       "      <td>Permanent</td>\n",
       "      <td>Female</td>\n",
       "      <td>1985</td>\n",
       "      <td>Y</td>\n",
       "      <td>...</td>\n",
       "      <td>3</td>\n",
       "      <td>0</td>\n",
       "      <td>3</td>\n",
       "      <td>0</td>\n",
       "      <td>106.376667</td>\n",
       "      <td>109.09</td>\n",
       "      <td>3.0</td>\n",
       "      <td>Pencapaian 50%-100%</td>\n",
       "      <td>Pencapaian &gt; 1.5</td>\n",
       "      <td>reached</td>\n",
       "    </tr>\n",
       "  </tbody>\n",
       "</table>\n",
       "<p>5 rows × 29 columns</p>\n",
       "</div>"
      ],
      "text/plain": [
       "  job_level  job_duration_in_current_job_level person_level  \\\n",
       "0      JG05                               1.42         PG05   \n",
       "1      JG04                               1.58         PG03   \n",
       "2      JG04                               1.83         PG03   \n",
       "3      JG05                               8.00         PG06   \n",
       "4      JG04                               1.92         PG03   \n",
       "\n",
       "   job_duration_in_current_person_level  job_duration_in_current_branch  \\\n",
       "0                                  1.42                             0.5   \n",
       "1                                  1.58                             2.0   \n",
       "2                                  1.83                             1.5   \n",
       "3                                  5.00                             1.5   \n",
       "4                                  1.92                             0.5   \n",
       "\n",
       "  Employee_type Employee_status  gender   age marital_status_maried(Y/N)  ...  \\\n",
       "0     RM_type_C       Permanent  Female  1983                          Y  ...   \n",
       "1     RM_type_A       Permanent    Male  1988                          N  ...   \n",
       "2     RM_type_A       Permanent    Male  1988                          Y  ...   \n",
       "3     RM_type_A       Permanent    Male  1973                          Y  ...   \n",
       "4     RM_type_A       Permanent  Female  1985                          Y  ...   \n",
       "\n",
       "   job_rotation  assign_of_otherposition  annual leave sick_leaves  \\\n",
       "0             9                        1             3           1   \n",
       "1             2                        2             4           1   \n",
       "2             2                        0             2           0   \n",
       "3             5                       11             3           0   \n",
       "4             3                        0             3           0   \n",
       "\n",
       "   Avg_achievement_% Last_achievement_%  \\\n",
       "0          79.506667              94.17   \n",
       "1          54.283333              42.97   \n",
       "2          43.016667              44.28   \n",
       "3          74.390000              80.93   \n",
       "4         106.376667             109.09   \n",
       "\n",
       "   Achievement_above_100%_during3quartal  achievement_target_1  \\\n",
       "0                                    1.0       achiev_50%-100%   \n",
       "1                                    0.0      Pencapaian < 50%   \n",
       "2                                    0.0       achiev_50%-100%   \n",
       "3                                    0.0   Pencapaian 50%-100%   \n",
       "4                                    3.0   Pencapaian 50%-100%   \n",
       "\n",
       "   achievement_target_2  achievement_target_3  \n",
       "0          achiev_< 50%               reached  \n",
       "1      Pencapaian < 50%               reached  \n",
       "2          achiev_< 50%               reached  \n",
       "3      Pencapaian < 50%           not reached  \n",
       "4      Pencapaian > 1.5               reached  \n",
       "\n",
       "[5 rows x 29 columns]"
      ]
     },
     "execution_count": 5,
     "metadata": {},
     "output_type": "execute_result"
    }
   ],
   "source": [
    "data_test.head()"
   ]
  },
  {
   "cell_type": "code",
   "execution_count": 6,
   "metadata": {},
   "outputs": [
    {
     "data": {
      "text/plain": [
       "Index(['job_level', 'job_duration_in_current_job_level', 'person_level',\n",
       "       'job_duration_in_current_person_level',\n",
       "       'job_duration_in_current_branch', 'Employee_type', 'Employee_status',\n",
       "       'gender', 'age', 'marital_status_maried(Y/N)', 'number_of_dependences',\n",
       "       'number_of_dependences (male)', 'number_of_dependences (female)',\n",
       "       'Education_level', 'GPA', 'year_graduated',\n",
       "       'job_duration_as_permanent_worker', 'job_duration_from_training',\n",
       "       'branch_rotation', 'job_rotation', 'assign_of_otherposition',\n",
       "       'annual leave', 'sick_leaves', 'Best Performance', 'Avg_achievement_%',\n",
       "       'Last_achievement_%', 'Achievement_above_100%_during3quartal',\n",
       "       'achievement_target_1', 'achievement_target_2', 'achievement_target_3'],\n",
       "      dtype='object')"
      ]
     },
     "execution_count": 6,
     "metadata": {},
     "output_type": "execute_result"
    }
   ],
   "source": [
    "data_train.columns"
   ]
  },
  {
   "cell_type": "code",
   "execution_count": 7,
   "metadata": {},
   "outputs": [
    {
     "data": {
      "text/plain": [
       "job_level                                   0\n",
       "job_duration_in_current_job_level           0\n",
       "person_level                                0\n",
       "job_duration_in_current_person_level        0\n",
       "job_duration_in_current_branch              0\n",
       "Employee_type                              12\n",
       "Employee_status                             0\n",
       "gender                                      0\n",
       "age                                         0\n",
       "marital_status_maried(Y/N)                  0\n",
       "number_of_dependences                       0\n",
       "number_of_dependences (male)                0\n",
       "number_of_dependences (female)              0\n",
       "Education_level                          3608\n",
       "GPA                                      3503\n",
       "year_graduated                           3503\n",
       "job_duration_as_permanent_worker         2055\n",
       "job_duration_from_training                  0\n",
       "branch_rotation                             0\n",
       "job_rotation                                0\n",
       "assign_of_otherposition                     0\n",
       "annual leave                                0\n",
       "sick_leaves                                 0\n",
       "Best Performance                            0\n",
       "Avg_achievement_%                        6289\n",
       "Last_achievement_%                       6302\n",
       "Achievement_above_100%_during3quartal    6302\n",
       "achievement_target_1                     6727\n",
       "achievement_target_2                     6727\n",
       "achievement_target_3                     6727\n",
       "dtype: int64"
      ]
     },
     "execution_count": 7,
     "metadata": {},
     "output_type": "execute_result"
    }
   ],
   "source": [
    "data_train.isnull().sum()"
   ]
  },
  {
   "cell_type": "code",
   "execution_count": 8,
   "metadata": {},
   "outputs": [
    {
     "data": {
      "text/plain": [
       "job_level                                0\n",
       "job_duration_in_current_job_level        0\n",
       "person_level                             0\n",
       "job_duration_in_current_person_level     0\n",
       "job_duration_in_current_branch           0\n",
       "Employee_type                            0\n",
       "Employee_status                          0\n",
       "gender                                   0\n",
       "age                                      0\n",
       "marital_status_maried(Y/N)               0\n",
       "number_of_dependences                    0\n",
       "number_of_dependences (male)             0\n",
       "number_of_dependences (female)           0\n",
       "Education_level                          0\n",
       "GPA                                      0\n",
       "year_graduated                           0\n",
       "job_duration_as_permanent_worker         0\n",
       "job_duration_from_training               0\n",
       "branch_rotation                          0\n",
       "job_rotation                             0\n",
       "assign_of_otherposition                  0\n",
       "annual leave                             0\n",
       "sick_leaves                              0\n",
       "Avg_achievement_%                        0\n",
       "Last_achievement_%                       0\n",
       "Achievement_above_100%_during3quartal    0\n",
       "achievement_target_1                     0\n",
       "achievement_target_2                     0\n",
       "achievement_target_3                     0\n",
       "dtype: int64"
      ]
     },
     "execution_count": 8,
     "metadata": {},
     "output_type": "execute_result"
    }
   ],
   "source": [
    "data_test.isnull().sum()"
   ]
  },
  {
   "cell_type": "code",
   "execution_count": 9,
   "metadata": {},
   "outputs": [
    {
     "data": {
      "text/plain": [
       "job_level                                 object\n",
       "job_duration_in_current_job_level        float64\n",
       "person_level                              object\n",
       "job_duration_in_current_person_level     float64\n",
       "job_duration_in_current_branch           float64\n",
       "Employee_type                             object\n",
       "Employee_status                           object\n",
       "gender                                    object\n",
       "age                                        int64\n",
       "marital_status_maried(Y/N)                object\n",
       "number_of_dependences                      int64\n",
       "number_of_dependences (male)               int64\n",
       "number_of_dependences (female)             int64\n",
       "Education_level                           object\n",
       "GPA                                      float64\n",
       "year_graduated                            object\n",
       "job_duration_as_permanent_worker         float64\n",
       "job_duration_from_training                 int64\n",
       "branch_rotation                            int64\n",
       "job_rotation                               int64\n",
       "assign_of_otherposition                    int64\n",
       "annual leave                               int64\n",
       "sick_leaves                                int64\n",
       "Best Performance                           int64\n",
       "Avg_achievement_%                        float64\n",
       "Last_achievement_%                       float64\n",
       "Achievement_above_100%_during3quartal    float64\n",
       "achievement_target_1                      object\n",
       "achievement_target_2                      object\n",
       "achievement_target_3                      object\n",
       "dtype: object"
      ]
     },
     "execution_count": 9,
     "metadata": {},
     "output_type": "execute_result"
    }
   ],
   "source": [
    "data_train.dtypes"
   ]
  },
  {
   "cell_type": "code",
   "execution_count": 10,
   "metadata": {},
   "outputs": [
    {
     "data": {
      "text/plain": [
       "job_level                                    4\n",
       "job_duration_in_current_job_level          102\n",
       "person_level                                 8\n",
       "job_duration_in_current_person_level        86\n",
       "job_duration_in_current_branch              71\n",
       "Employee_type                                3\n",
       "Employee_status                              2\n",
       "gender                                       2\n",
       "age                                         37\n",
       "marital_status_maried(Y/N)                   2\n",
       "number_of_dependences                        7\n",
       "number_of_dependences (male)                 5\n",
       "number_of_dependences (female)               5\n",
       "Education_level                              6\n",
       "GPA                                        241\n",
       "year_graduated                              52\n",
       "job_duration_as_permanent_worker            33\n",
       "job_duration_from_training                  34\n",
       "branch_rotation                             20\n",
       "job_rotation                                15\n",
       "assign_of_otherposition                     30\n",
       "annual leave                                22\n",
       "sick_leaves                                 50\n",
       "Best Performance                             2\n",
       "Avg_achievement_%                        12186\n",
       "Last_achievement_%                        7047\n",
       "Achievement_above_100%_during3quartal        4\n",
       "achievement_target_1                         9\n",
       "achievement_target_2                         9\n",
       "achievement_target_3                         3\n",
       "dtype: int64"
      ]
     },
     "execution_count": 10,
     "metadata": {},
     "output_type": "execute_result"
    }
   ],
   "source": [
    "data_train.nunique()"
   ]
  },
  {
   "cell_type": "code",
   "execution_count": 11,
   "metadata": {},
   "outputs": [],
   "source": [
    "data1 = data_train.copy()\n",
    "data2 = data_test.copy()"
   ]
  },
  {
   "cell_type": "code",
   "execution_count": 12,
   "metadata": {},
   "outputs": [],
   "source": [
    "def mising_val_table(data):\n",
    "    mising_val = data.isnull().sum()\n",
    "    presentase_mising_val = 100 * data.isnull().sum()/len(data)\n",
    "    \n",
    "    table = pd.concat([mising_val, presentase_mising_val], axis=1)\n",
    "    table = table.rename(columns = {\n",
    "        0 : \"Mising Values\",\n",
    "        1 : \"% of Total Values\" \n",
    "    })\n",
    "    \n",
    "    table = table.sort_values(\n",
    "        by=\"% of Total Values\",\n",
    "        ascending = False\n",
    "    )\n",
    "    \n",
    "    return table"
   ]
  },
  {
   "cell_type": "code",
   "execution_count": 13,
   "metadata": {},
   "outputs": [
    {
     "data": {
      "text/plain": [
       "(22005, 30)"
      ]
     },
     "execution_count": 13,
     "metadata": {},
     "output_type": "execute_result"
    }
   ],
   "source": [
    "data1.shape"
   ]
  },
  {
   "cell_type": "code",
   "execution_count": 14,
   "metadata": {},
   "outputs": [
    {
     "name": "stdout",
     "output_type": "stream",
     "text": [
      "<class 'pandas.core.frame.DataFrame'>\n",
      "RangeIndex: 22005 entries, 0 to 22004\n",
      "Data columns (total 30 columns):\n",
      " #   Column                                 Non-Null Count  Dtype  \n",
      "---  ------                                 --------------  -----  \n",
      " 0   job_level                              22005 non-null  object \n",
      " 1   job_duration_in_current_job_level      22005 non-null  float64\n",
      " 2   person_level                           22005 non-null  object \n",
      " 3   job_duration_in_current_person_level   22005 non-null  float64\n",
      " 4   job_duration_in_current_branch         22005 non-null  float64\n",
      " 5   Employee_type                          21993 non-null  object \n",
      " 6   Employee_status                        22005 non-null  object \n",
      " 7   gender                                 22005 non-null  object \n",
      " 8   age                                    22005 non-null  int64  \n",
      " 9   marital_status_maried(Y/N)             22005 non-null  object \n",
      " 10  number_of_dependences                  22005 non-null  int64  \n",
      " 11  number_of_dependences (male)           22005 non-null  int64  \n",
      " 12  number_of_dependences (female)         22005 non-null  int64  \n",
      " 13  Education_level                        18397 non-null  object \n",
      " 14  GPA                                    18502 non-null  float64\n",
      " 15  year_graduated                         18502 non-null  object \n",
      " 16  job_duration_as_permanent_worker       19950 non-null  float64\n",
      " 17  job_duration_from_training             22005 non-null  int64  \n",
      " 18  branch_rotation                        22005 non-null  int64  \n",
      " 19  job_rotation                           22005 non-null  int64  \n",
      " 20  assign_of_otherposition                22005 non-null  int64  \n",
      " 21  annual leave                           22005 non-null  int64  \n",
      " 22  sick_leaves                            22005 non-null  int64  \n",
      " 23  Best Performance                       22005 non-null  int64  \n",
      " 24  Avg_achievement_%                      15716 non-null  float64\n",
      " 25  Last_achievement_%                     15703 non-null  float64\n",
      " 26  Achievement_above_100%_during3quartal  15703 non-null  float64\n",
      " 27  achievement_target_1                   15278 non-null  object \n",
      " 28  achievement_target_2                   15278 non-null  object \n",
      " 29  achievement_target_3                   15278 non-null  object \n",
      "dtypes: float64(8), int64(11), object(11)\n",
      "memory usage: 5.0+ MB\n"
     ]
    }
   ],
   "source": [
    "data1.info()"
   ]
  },
  {
   "cell_type": "code",
   "execution_count": 15,
   "metadata": {},
   "outputs": [
    {
     "data": {
      "text/html": [
       "<div>\n",
       "<style scoped>\n",
       "    .dataframe tbody tr th:only-of-type {\n",
       "        vertical-align: middle;\n",
       "    }\n",
       "\n",
       "    .dataframe tbody tr th {\n",
       "        vertical-align: top;\n",
       "    }\n",
       "\n",
       "    .dataframe thead th {\n",
       "        text-align: right;\n",
       "    }\n",
       "</style>\n",
       "<table border=\"1\" class=\"dataframe\">\n",
       "  <thead>\n",
       "    <tr style=\"text-align: right;\">\n",
       "      <th></th>\n",
       "      <th>Mising Values</th>\n",
       "      <th>% of Total Values</th>\n",
       "    </tr>\n",
       "  </thead>\n",
       "  <tbody>\n",
       "    <tr>\n",
       "      <th>achievement_target_3</th>\n",
       "      <td>6727</td>\n",
       "      <td>30.570325</td>\n",
       "    </tr>\n",
       "    <tr>\n",
       "      <th>achievement_target_2</th>\n",
       "      <td>6727</td>\n",
       "      <td>30.570325</td>\n",
       "    </tr>\n",
       "    <tr>\n",
       "      <th>achievement_target_1</th>\n",
       "      <td>6727</td>\n",
       "      <td>30.570325</td>\n",
       "    </tr>\n",
       "    <tr>\n",
       "      <th>Achievement_above_100%_during3quartal</th>\n",
       "      <td>6302</td>\n",
       "      <td>28.638946</td>\n",
       "    </tr>\n",
       "    <tr>\n",
       "      <th>Last_achievement_%</th>\n",
       "      <td>6302</td>\n",
       "      <td>28.638946</td>\n",
       "    </tr>\n",
       "    <tr>\n",
       "      <th>Avg_achievement_%</th>\n",
       "      <td>6289</td>\n",
       "      <td>28.579868</td>\n",
       "    </tr>\n",
       "    <tr>\n",
       "      <th>Education_level</th>\n",
       "      <td>3608</td>\n",
       "      <td>16.396274</td>\n",
       "    </tr>\n",
       "    <tr>\n",
       "      <th>GPA</th>\n",
       "      <td>3503</td>\n",
       "      <td>15.919109</td>\n",
       "    </tr>\n",
       "    <tr>\n",
       "      <th>year_graduated</th>\n",
       "      <td>3503</td>\n",
       "      <td>15.919109</td>\n",
       "    </tr>\n",
       "    <tr>\n",
       "      <th>job_duration_as_permanent_worker</th>\n",
       "      <td>2055</td>\n",
       "      <td>9.338787</td>\n",
       "    </tr>\n",
       "    <tr>\n",
       "      <th>Employee_type</th>\n",
       "      <td>12</td>\n",
       "      <td>0.054533</td>\n",
       "    </tr>\n",
       "    <tr>\n",
       "      <th>marital_status_maried(Y/N)</th>\n",
       "      <td>0</td>\n",
       "      <td>0.000000</td>\n",
       "    </tr>\n",
       "    <tr>\n",
       "      <th>assign_of_otherposition</th>\n",
       "      <td>0</td>\n",
       "      <td>0.000000</td>\n",
       "    </tr>\n",
       "    <tr>\n",
       "      <th>person_level</th>\n",
       "      <td>0</td>\n",
       "      <td>0.000000</td>\n",
       "    </tr>\n",
       "    <tr>\n",
       "      <th>job_duration_in_current_person_level</th>\n",
       "      <td>0</td>\n",
       "      <td>0.000000</td>\n",
       "    </tr>\n",
       "    <tr>\n",
       "      <th>job_duration_in_current_branch</th>\n",
       "      <td>0</td>\n",
       "      <td>0.000000</td>\n",
       "    </tr>\n",
       "    <tr>\n",
       "      <th>Employee_status</th>\n",
       "      <td>0</td>\n",
       "      <td>0.000000</td>\n",
       "    </tr>\n",
       "    <tr>\n",
       "      <th>Best Performance</th>\n",
       "      <td>0</td>\n",
       "      <td>0.000000</td>\n",
       "    </tr>\n",
       "    <tr>\n",
       "      <th>sick_leaves</th>\n",
       "      <td>0</td>\n",
       "      <td>0.000000</td>\n",
       "    </tr>\n",
       "    <tr>\n",
       "      <th>annual leave</th>\n",
       "      <td>0</td>\n",
       "      <td>0.000000</td>\n",
       "    </tr>\n",
       "    <tr>\n",
       "      <th>job_rotation</th>\n",
       "      <td>0</td>\n",
       "      <td>0.000000</td>\n",
       "    </tr>\n",
       "    <tr>\n",
       "      <th>number_of_dependences</th>\n",
       "      <td>0</td>\n",
       "      <td>0.000000</td>\n",
       "    </tr>\n",
       "    <tr>\n",
       "      <th>branch_rotation</th>\n",
       "      <td>0</td>\n",
       "      <td>0.000000</td>\n",
       "    </tr>\n",
       "    <tr>\n",
       "      <th>job_duration_from_training</th>\n",
       "      <td>0</td>\n",
       "      <td>0.000000</td>\n",
       "    </tr>\n",
       "    <tr>\n",
       "      <th>job_duration_in_current_job_level</th>\n",
       "      <td>0</td>\n",
       "      <td>0.000000</td>\n",
       "    </tr>\n",
       "    <tr>\n",
       "      <th>gender</th>\n",
       "      <td>0</td>\n",
       "      <td>0.000000</td>\n",
       "    </tr>\n",
       "    <tr>\n",
       "      <th>age</th>\n",
       "      <td>0</td>\n",
       "      <td>0.000000</td>\n",
       "    </tr>\n",
       "    <tr>\n",
       "      <th>number_of_dependences (female)</th>\n",
       "      <td>0</td>\n",
       "      <td>0.000000</td>\n",
       "    </tr>\n",
       "    <tr>\n",
       "      <th>number_of_dependences (male)</th>\n",
       "      <td>0</td>\n",
       "      <td>0.000000</td>\n",
       "    </tr>\n",
       "    <tr>\n",
       "      <th>job_level</th>\n",
       "      <td>0</td>\n",
       "      <td>0.000000</td>\n",
       "    </tr>\n",
       "  </tbody>\n",
       "</table>\n",
       "</div>"
      ],
      "text/plain": [
       "                                       Mising Values  % of Total Values\n",
       "achievement_target_3                            6727          30.570325\n",
       "achievement_target_2                            6727          30.570325\n",
       "achievement_target_1                            6727          30.570325\n",
       "Achievement_above_100%_during3quartal           6302          28.638946\n",
       "Last_achievement_%                              6302          28.638946\n",
       "Avg_achievement_%                               6289          28.579868\n",
       "Education_level                                 3608          16.396274\n",
       "GPA                                             3503          15.919109\n",
       "year_graduated                                  3503          15.919109\n",
       "job_duration_as_permanent_worker                2055           9.338787\n",
       "Employee_type                                     12           0.054533\n",
       "marital_status_maried(Y/N)                         0           0.000000\n",
       "assign_of_otherposition                            0           0.000000\n",
       "person_level                                       0           0.000000\n",
       "job_duration_in_current_person_level               0           0.000000\n",
       "job_duration_in_current_branch                     0           0.000000\n",
       "Employee_status                                    0           0.000000\n",
       "Best Performance                                   0           0.000000\n",
       "sick_leaves                                        0           0.000000\n",
       "annual leave                                       0           0.000000\n",
       "job_rotation                                       0           0.000000\n",
       "number_of_dependences                              0           0.000000\n",
       "branch_rotation                                    0           0.000000\n",
       "job_duration_from_training                         0           0.000000\n",
       "job_duration_in_current_job_level                  0           0.000000\n",
       "gender                                             0           0.000000\n",
       "age                                                0           0.000000\n",
       "number_of_dependences (female)                     0           0.000000\n",
       "number_of_dependences (male)                       0           0.000000\n",
       "job_level                                          0           0.000000"
      ]
     },
     "execution_count": 15,
     "metadata": {},
     "output_type": "execute_result"
    }
   ],
   "source": [
    "mising_val_table(data1)"
   ]
  },
  {
   "cell_type": "code",
   "execution_count": 16,
   "metadata": {},
   "outputs": [
    {
     "data": {
      "text/html": [
       "<div>\n",
       "<style scoped>\n",
       "    .dataframe tbody tr th:only-of-type {\n",
       "        vertical-align: middle;\n",
       "    }\n",
       "\n",
       "    .dataframe tbody tr th {\n",
       "        vertical-align: top;\n",
       "    }\n",
       "\n",
       "    .dataframe thead th {\n",
       "        text-align: right;\n",
       "    }\n",
       "</style>\n",
       "<table border=\"1\" class=\"dataframe\">\n",
       "  <thead>\n",
       "    <tr style=\"text-align: right;\">\n",
       "      <th></th>\n",
       "      <th>Mising Values</th>\n",
       "      <th>% of Total Values</th>\n",
       "    </tr>\n",
       "  </thead>\n",
       "  <tbody>\n",
       "    <tr>\n",
       "      <th>job_level</th>\n",
       "      <td>0</td>\n",
       "      <td>0.0</td>\n",
       "    </tr>\n",
       "    <tr>\n",
       "      <th>year_graduated</th>\n",
       "      <td>0</td>\n",
       "      <td>0.0</td>\n",
       "    </tr>\n",
       "    <tr>\n",
       "      <th>achievement_target_2</th>\n",
       "      <td>0</td>\n",
       "      <td>0.0</td>\n",
       "    </tr>\n",
       "    <tr>\n",
       "      <th>achievement_target_1</th>\n",
       "      <td>0</td>\n",
       "      <td>0.0</td>\n",
       "    </tr>\n",
       "    <tr>\n",
       "      <th>Achievement_above_100%_during3quartal</th>\n",
       "      <td>0</td>\n",
       "      <td>0.0</td>\n",
       "    </tr>\n",
       "    <tr>\n",
       "      <th>Last_achievement_%</th>\n",
       "      <td>0</td>\n",
       "      <td>0.0</td>\n",
       "    </tr>\n",
       "    <tr>\n",
       "      <th>Avg_achievement_%</th>\n",
       "      <td>0</td>\n",
       "      <td>0.0</td>\n",
       "    </tr>\n",
       "    <tr>\n",
       "      <th>sick_leaves</th>\n",
       "      <td>0</td>\n",
       "      <td>0.0</td>\n",
       "    </tr>\n",
       "    <tr>\n",
       "      <th>annual leave</th>\n",
       "      <td>0</td>\n",
       "      <td>0.0</td>\n",
       "    </tr>\n",
       "    <tr>\n",
       "      <th>assign_of_otherposition</th>\n",
       "      <td>0</td>\n",
       "      <td>0.0</td>\n",
       "    </tr>\n",
       "    <tr>\n",
       "      <th>job_rotation</th>\n",
       "      <td>0</td>\n",
       "      <td>0.0</td>\n",
       "    </tr>\n",
       "    <tr>\n",
       "      <th>branch_rotation</th>\n",
       "      <td>0</td>\n",
       "      <td>0.0</td>\n",
       "    </tr>\n",
       "    <tr>\n",
       "      <th>job_duration_from_training</th>\n",
       "      <td>0</td>\n",
       "      <td>0.0</td>\n",
       "    </tr>\n",
       "    <tr>\n",
       "      <th>job_duration_as_permanent_worker</th>\n",
       "      <td>0</td>\n",
       "      <td>0.0</td>\n",
       "    </tr>\n",
       "    <tr>\n",
       "      <th>GPA</th>\n",
       "      <td>0</td>\n",
       "      <td>0.0</td>\n",
       "    </tr>\n",
       "    <tr>\n",
       "      <th>job_duration_in_current_job_level</th>\n",
       "      <td>0</td>\n",
       "      <td>0.0</td>\n",
       "    </tr>\n",
       "    <tr>\n",
       "      <th>Education_level</th>\n",
       "      <td>0</td>\n",
       "      <td>0.0</td>\n",
       "    </tr>\n",
       "    <tr>\n",
       "      <th>number_of_dependences (female)</th>\n",
       "      <td>0</td>\n",
       "      <td>0.0</td>\n",
       "    </tr>\n",
       "    <tr>\n",
       "      <th>number_of_dependences (male)</th>\n",
       "      <td>0</td>\n",
       "      <td>0.0</td>\n",
       "    </tr>\n",
       "    <tr>\n",
       "      <th>number_of_dependences</th>\n",
       "      <td>0</td>\n",
       "      <td>0.0</td>\n",
       "    </tr>\n",
       "    <tr>\n",
       "      <th>marital_status_maried(Y/N)</th>\n",
       "      <td>0</td>\n",
       "      <td>0.0</td>\n",
       "    </tr>\n",
       "    <tr>\n",
       "      <th>age</th>\n",
       "      <td>0</td>\n",
       "      <td>0.0</td>\n",
       "    </tr>\n",
       "    <tr>\n",
       "      <th>gender</th>\n",
       "      <td>0</td>\n",
       "      <td>0.0</td>\n",
       "    </tr>\n",
       "    <tr>\n",
       "      <th>Employee_status</th>\n",
       "      <td>0</td>\n",
       "      <td>0.0</td>\n",
       "    </tr>\n",
       "    <tr>\n",
       "      <th>Employee_type</th>\n",
       "      <td>0</td>\n",
       "      <td>0.0</td>\n",
       "    </tr>\n",
       "    <tr>\n",
       "      <th>job_duration_in_current_branch</th>\n",
       "      <td>0</td>\n",
       "      <td>0.0</td>\n",
       "    </tr>\n",
       "    <tr>\n",
       "      <th>job_duration_in_current_person_level</th>\n",
       "      <td>0</td>\n",
       "      <td>0.0</td>\n",
       "    </tr>\n",
       "    <tr>\n",
       "      <th>person_level</th>\n",
       "      <td>0</td>\n",
       "      <td>0.0</td>\n",
       "    </tr>\n",
       "    <tr>\n",
       "      <th>achievement_target_3</th>\n",
       "      <td>0</td>\n",
       "      <td>0.0</td>\n",
       "    </tr>\n",
       "  </tbody>\n",
       "</table>\n",
       "</div>"
      ],
      "text/plain": [
       "                                       Mising Values  % of Total Values\n",
       "job_level                                          0                0.0\n",
       "year_graduated                                     0                0.0\n",
       "achievement_target_2                               0                0.0\n",
       "achievement_target_1                               0                0.0\n",
       "Achievement_above_100%_during3quartal              0                0.0\n",
       "Last_achievement_%                                 0                0.0\n",
       "Avg_achievement_%                                  0                0.0\n",
       "sick_leaves                                        0                0.0\n",
       "annual leave                                       0                0.0\n",
       "assign_of_otherposition                            0                0.0\n",
       "job_rotation                                       0                0.0\n",
       "branch_rotation                                    0                0.0\n",
       "job_duration_from_training                         0                0.0\n",
       "job_duration_as_permanent_worker                   0                0.0\n",
       "GPA                                                0                0.0\n",
       "job_duration_in_current_job_level                  0                0.0\n",
       "Education_level                                    0                0.0\n",
       "number_of_dependences (female)                     0                0.0\n",
       "number_of_dependences (male)                       0                0.0\n",
       "number_of_dependences                              0                0.0\n",
       "marital_status_maried(Y/N)                         0                0.0\n",
       "age                                                0                0.0\n",
       "gender                                             0                0.0\n",
       "Employee_status                                    0                0.0\n",
       "Employee_type                                      0                0.0\n",
       "job_duration_in_current_branch                     0                0.0\n",
       "job_duration_in_current_person_level               0                0.0\n",
       "person_level                                       0                0.0\n",
       "achievement_target_3                               0                0.0"
      ]
     },
     "execution_count": 16,
     "metadata": {},
     "output_type": "execute_result"
    }
   ],
   "source": [
    "mising_val_table(data2)"
   ]
  },
  {
   "cell_type": "code",
   "execution_count": 17,
   "metadata": {},
   "outputs": [
    {
     "data": {
      "text/plain": [
       "RM_type_A    11030\n",
       "RM_type_B    10211\n",
       "RM_type_C      752\n",
       "Name: Employee_type, dtype: int64"
      ]
     },
     "execution_count": 17,
     "metadata": {},
     "output_type": "execute_result"
    }
   ],
   "source": [
    "data1[\"Employee_type\"].value_counts()"
   ]
  },
  {
   "cell_type": "code",
   "execution_count": 18,
   "metadata": {},
   "outputs": [
    {
     "data": {
      "text/plain": [
       "7331.0"
      ]
     },
     "execution_count": 18,
     "metadata": {},
     "output_type": "execute_result"
    }
   ],
   "source": [
    "rma = 11030\n",
    "rmb = 10211\n",
    "rmc = 752\n",
    "n = 3\n",
    "hasil = (rma+rmb+rmc)/3\n",
    "hasil"
   ]
  },
  {
   "cell_type": "markdown",
   "metadata": {},
   "source": [
    "**Fiture engineering untuk kolom \"Employe_type\": Tipe Pekerja**"
   ]
  },
  {
   "cell_type": "code",
   "execution_count": 19,
   "metadata": {},
   "outputs": [
    {
     "data": {
      "text/html": [
       "<div>\n",
       "<style scoped>\n",
       "    .dataframe tbody tr th:only-of-type {\n",
       "        vertical-align: middle;\n",
       "    }\n",
       "\n",
       "    .dataframe tbody tr th {\n",
       "        vertical-align: top;\n",
       "    }\n",
       "\n",
       "    .dataframe thead th {\n",
       "        text-align: right;\n",
       "    }\n",
       "</style>\n",
       "<table border=\"1\" class=\"dataframe\">\n",
       "  <thead>\n",
       "    <tr style=\"text-align: right;\">\n",
       "      <th></th>\n",
       "      <th>job_level</th>\n",
       "      <th>job_duration_in_current_job_level</th>\n",
       "      <th>person_level</th>\n",
       "      <th>job_duration_in_current_person_level</th>\n",
       "      <th>job_duration_in_current_branch</th>\n",
       "      <th>Employee_type</th>\n",
       "      <th>Employee_status</th>\n",
       "      <th>gender</th>\n",
       "      <th>age</th>\n",
       "      <th>marital_status_maried(Y/N)</th>\n",
       "      <th>...</th>\n",
       "      <th>assign_of_otherposition</th>\n",
       "      <th>annual leave</th>\n",
       "      <th>sick_leaves</th>\n",
       "      <th>Best Performance</th>\n",
       "      <th>Avg_achievement_%</th>\n",
       "      <th>Last_achievement_%</th>\n",
       "      <th>Achievement_above_100%_during3quartal</th>\n",
       "      <th>achievement_target_1</th>\n",
       "      <th>achievement_target_2</th>\n",
       "      <th>achievement_target_3</th>\n",
       "    </tr>\n",
       "  </thead>\n",
       "  <tbody>\n",
       "    <tr>\n",
       "      <th>7279</th>\n",
       "      <td>JG03</td>\n",
       "      <td>4.00</td>\n",
       "      <td>PG01</td>\n",
       "      <td>4.00</td>\n",
       "      <td>0.33</td>\n",
       "      <td>NaN</td>\n",
       "      <td>Permanent</td>\n",
       "      <td>Male</td>\n",
       "      <td>1990</td>\n",
       "      <td>N</td>\n",
       "      <td>...</td>\n",
       "      <td>0</td>\n",
       "      <td>5</td>\n",
       "      <td>10</td>\n",
       "      <td>0</td>\n",
       "      <td>NaN</td>\n",
       "      <td>NaN</td>\n",
       "      <td>NaN</td>\n",
       "      <td>NaN</td>\n",
       "      <td>NaN</td>\n",
       "      <td>NaN</td>\n",
       "    </tr>\n",
       "    <tr>\n",
       "      <th>9187</th>\n",
       "      <td>JG03</td>\n",
       "      <td>5.17</td>\n",
       "      <td>PG02</td>\n",
       "      <td>4.00</td>\n",
       "      <td>0.92</td>\n",
       "      <td>NaN</td>\n",
       "      <td>Permanent</td>\n",
       "      <td>Male</td>\n",
       "      <td>1980</td>\n",
       "      <td>Y</td>\n",
       "      <td>...</td>\n",
       "      <td>1</td>\n",
       "      <td>4</td>\n",
       "      <td>1</td>\n",
       "      <td>0</td>\n",
       "      <td>NaN</td>\n",
       "      <td>NaN</td>\n",
       "      <td>NaN</td>\n",
       "      <td>NaN</td>\n",
       "      <td>NaN</td>\n",
       "      <td>NaN</td>\n",
       "    </tr>\n",
       "    <tr>\n",
       "      <th>10732</th>\n",
       "      <td>JG03</td>\n",
       "      <td>3.58</td>\n",
       "      <td>PG02</td>\n",
       "      <td>0.50</td>\n",
       "      <td>0.67</td>\n",
       "      <td>NaN</td>\n",
       "      <td>Permanent</td>\n",
       "      <td>Female</td>\n",
       "      <td>1990</td>\n",
       "      <td>Y</td>\n",
       "      <td>...</td>\n",
       "      <td>0</td>\n",
       "      <td>5</td>\n",
       "      <td>4</td>\n",
       "      <td>0</td>\n",
       "      <td>NaN</td>\n",
       "      <td>NaN</td>\n",
       "      <td>NaN</td>\n",
       "      <td>NaN</td>\n",
       "      <td>NaN</td>\n",
       "      <td>NaN</td>\n",
       "    </tr>\n",
       "    <tr>\n",
       "      <th>11734</th>\n",
       "      <td>JG04</td>\n",
       "      <td>1.08</td>\n",
       "      <td>PG03</td>\n",
       "      <td>1.08</td>\n",
       "      <td>0.00</td>\n",
       "      <td>NaN</td>\n",
       "      <td>Permanent</td>\n",
       "      <td>Male</td>\n",
       "      <td>1985</td>\n",
       "      <td>Y</td>\n",
       "      <td>...</td>\n",
       "      <td>0</td>\n",
       "      <td>3</td>\n",
       "      <td>0</td>\n",
       "      <td>0</td>\n",
       "      <td>NaN</td>\n",
       "      <td>NaN</td>\n",
       "      <td>NaN</td>\n",
       "      <td>NaN</td>\n",
       "      <td>NaN</td>\n",
       "      <td>NaN</td>\n",
       "    </tr>\n",
       "    <tr>\n",
       "      <th>11769</th>\n",
       "      <td>JG03</td>\n",
       "      <td>3.58</td>\n",
       "      <td>PG02</td>\n",
       "      <td>0.50</td>\n",
       "      <td>1.42</td>\n",
       "      <td>NaN</td>\n",
       "      <td>Permanent</td>\n",
       "      <td>Male</td>\n",
       "      <td>1986</td>\n",
       "      <td>Y</td>\n",
       "      <td>...</td>\n",
       "      <td>0</td>\n",
       "      <td>2</td>\n",
       "      <td>2</td>\n",
       "      <td>0</td>\n",
       "      <td>NaN</td>\n",
       "      <td>NaN</td>\n",
       "      <td>NaN</td>\n",
       "      <td>NaN</td>\n",
       "      <td>NaN</td>\n",
       "      <td>NaN</td>\n",
       "    </tr>\n",
       "    <tr>\n",
       "      <th>12718</th>\n",
       "      <td>JG03</td>\n",
       "      <td>4.17</td>\n",
       "      <td>PG02</td>\n",
       "      <td>1.00</td>\n",
       "      <td>0.17</td>\n",
       "      <td>NaN</td>\n",
       "      <td>Permanent</td>\n",
       "      <td>Female</td>\n",
       "      <td>1985</td>\n",
       "      <td>Y</td>\n",
       "      <td>...</td>\n",
       "      <td>0</td>\n",
       "      <td>5</td>\n",
       "      <td>0</td>\n",
       "      <td>0</td>\n",
       "      <td>NaN</td>\n",
       "      <td>NaN</td>\n",
       "      <td>NaN</td>\n",
       "      <td>NaN</td>\n",
       "      <td>NaN</td>\n",
       "      <td>NaN</td>\n",
       "    </tr>\n",
       "    <tr>\n",
       "      <th>14384</th>\n",
       "      <td>JG03</td>\n",
       "      <td>3.00</td>\n",
       "      <td>PG01</td>\n",
       "      <td>3.00</td>\n",
       "      <td>0.25</td>\n",
       "      <td>NaN</td>\n",
       "      <td>Permanent</td>\n",
       "      <td>Male</td>\n",
       "      <td>1985</td>\n",
       "      <td>Y</td>\n",
       "      <td>...</td>\n",
       "      <td>1</td>\n",
       "      <td>6</td>\n",
       "      <td>1</td>\n",
       "      <td>0</td>\n",
       "      <td>NaN</td>\n",
       "      <td>NaN</td>\n",
       "      <td>NaN</td>\n",
       "      <td>NaN</td>\n",
       "      <td>NaN</td>\n",
       "      <td>NaN</td>\n",
       "    </tr>\n",
       "    <tr>\n",
       "      <th>14433</th>\n",
       "      <td>JG03</td>\n",
       "      <td>7.00</td>\n",
       "      <td>PG02</td>\n",
       "      <td>3.50</td>\n",
       "      <td>0.33</td>\n",
       "      <td>NaN</td>\n",
       "      <td>Permanent</td>\n",
       "      <td>Male</td>\n",
       "      <td>1983</td>\n",
       "      <td>Y</td>\n",
       "      <td>...</td>\n",
       "      <td>2</td>\n",
       "      <td>0</td>\n",
       "      <td>2</td>\n",
       "      <td>0</td>\n",
       "      <td>NaN</td>\n",
       "      <td>NaN</td>\n",
       "      <td>NaN</td>\n",
       "      <td>NaN</td>\n",
       "      <td>NaN</td>\n",
       "      <td>NaN</td>\n",
       "    </tr>\n",
       "    <tr>\n",
       "      <th>14454</th>\n",
       "      <td>JG03</td>\n",
       "      <td>3.75</td>\n",
       "      <td>PG02</td>\n",
       "      <td>0.50</td>\n",
       "      <td>0.25</td>\n",
       "      <td>NaN</td>\n",
       "      <td>Permanent</td>\n",
       "      <td>Female</td>\n",
       "      <td>1989</td>\n",
       "      <td>Y</td>\n",
       "      <td>...</td>\n",
       "      <td>1</td>\n",
       "      <td>2</td>\n",
       "      <td>1</td>\n",
       "      <td>0</td>\n",
       "      <td>NaN</td>\n",
       "      <td>NaN</td>\n",
       "      <td>NaN</td>\n",
       "      <td>NaN</td>\n",
       "      <td>NaN</td>\n",
       "      <td>NaN</td>\n",
       "    </tr>\n",
       "    <tr>\n",
       "      <th>15246</th>\n",
       "      <td>JG03</td>\n",
       "      <td>4.17</td>\n",
       "      <td>PG02</td>\n",
       "      <td>1.00</td>\n",
       "      <td>0.42</td>\n",
       "      <td>NaN</td>\n",
       "      <td>Permanent</td>\n",
       "      <td>Male</td>\n",
       "      <td>1987</td>\n",
       "      <td>Y</td>\n",
       "      <td>...</td>\n",
       "      <td>0</td>\n",
       "      <td>4</td>\n",
       "      <td>0</td>\n",
       "      <td>0</td>\n",
       "      <td>NaN</td>\n",
       "      <td>NaN</td>\n",
       "      <td>NaN</td>\n",
       "      <td>NaN</td>\n",
       "      <td>NaN</td>\n",
       "      <td>NaN</td>\n",
       "    </tr>\n",
       "    <tr>\n",
       "      <th>16976</th>\n",
       "      <td>JG03</td>\n",
       "      <td>4.92</td>\n",
       "      <td>PG02</td>\n",
       "      <td>4.50</td>\n",
       "      <td>0.17</td>\n",
       "      <td>NaN</td>\n",
       "      <td>Permanent</td>\n",
       "      <td>Male</td>\n",
       "      <td>1980</td>\n",
       "      <td>Y</td>\n",
       "      <td>...</td>\n",
       "      <td>1</td>\n",
       "      <td>2</td>\n",
       "      <td>0</td>\n",
       "      <td>0</td>\n",
       "      <td>NaN</td>\n",
       "      <td>NaN</td>\n",
       "      <td>NaN</td>\n",
       "      <td>NaN</td>\n",
       "      <td>NaN</td>\n",
       "      <td>NaN</td>\n",
       "    </tr>\n",
       "    <tr>\n",
       "      <th>17097</th>\n",
       "      <td>JG03</td>\n",
       "      <td>4.08</td>\n",
       "      <td>PG02</td>\n",
       "      <td>1.00</td>\n",
       "      <td>0.17</td>\n",
       "      <td>NaN</td>\n",
       "      <td>Permanent</td>\n",
       "      <td>Female</td>\n",
       "      <td>1986</td>\n",
       "      <td>Y</td>\n",
       "      <td>...</td>\n",
       "      <td>2</td>\n",
       "      <td>3</td>\n",
       "      <td>0</td>\n",
       "      <td>0</td>\n",
       "      <td>NaN</td>\n",
       "      <td>NaN</td>\n",
       "      <td>NaN</td>\n",
       "      <td>NaN</td>\n",
       "      <td>NaN</td>\n",
       "      <td>NaN</td>\n",
       "    </tr>\n",
       "  </tbody>\n",
       "</table>\n",
       "<p>12 rows × 30 columns</p>\n",
       "</div>"
      ],
      "text/plain": [
       "      job_level  job_duration_in_current_job_level person_level  \\\n",
       "7279       JG03                               4.00         PG01   \n",
       "9187       JG03                               5.17         PG02   \n",
       "10732      JG03                               3.58         PG02   \n",
       "11734      JG04                               1.08         PG03   \n",
       "11769      JG03                               3.58         PG02   \n",
       "12718      JG03                               4.17         PG02   \n",
       "14384      JG03                               3.00         PG01   \n",
       "14433      JG03                               7.00         PG02   \n",
       "14454      JG03                               3.75         PG02   \n",
       "15246      JG03                               4.17         PG02   \n",
       "16976      JG03                               4.92         PG02   \n",
       "17097      JG03                               4.08         PG02   \n",
       "\n",
       "       job_duration_in_current_person_level  job_duration_in_current_branch  \\\n",
       "7279                                   4.00                            0.33   \n",
       "9187                                   4.00                            0.92   \n",
       "10732                                  0.50                            0.67   \n",
       "11734                                  1.08                            0.00   \n",
       "11769                                  0.50                            1.42   \n",
       "12718                                  1.00                            0.17   \n",
       "14384                                  3.00                            0.25   \n",
       "14433                                  3.50                            0.33   \n",
       "14454                                  0.50                            0.25   \n",
       "15246                                  1.00                            0.42   \n",
       "16976                                  4.50                            0.17   \n",
       "17097                                  1.00                            0.17   \n",
       "\n",
       "      Employee_type Employee_status  gender   age marital_status_maried(Y/N)  \\\n",
       "7279            NaN       Permanent    Male  1990                          N   \n",
       "9187            NaN       Permanent    Male  1980                          Y   \n",
       "10732           NaN       Permanent  Female  1990                          Y   \n",
       "11734           NaN       Permanent    Male  1985                          Y   \n",
       "11769           NaN       Permanent    Male  1986                          Y   \n",
       "12718           NaN       Permanent  Female  1985                          Y   \n",
       "14384           NaN       Permanent    Male  1985                          Y   \n",
       "14433           NaN       Permanent    Male  1983                          Y   \n",
       "14454           NaN       Permanent  Female  1989                          Y   \n",
       "15246           NaN       Permanent    Male  1987                          Y   \n",
       "16976           NaN       Permanent    Male  1980                          Y   \n",
       "17097           NaN       Permanent  Female  1986                          Y   \n",
       "\n",
       "       ...  assign_of_otherposition  annual leave  sick_leaves  \\\n",
       "7279   ...                        0             5           10   \n",
       "9187   ...                        1             4            1   \n",
       "10732  ...                        0             5            4   \n",
       "11734  ...                        0             3            0   \n",
       "11769  ...                        0             2            2   \n",
       "12718  ...                        0             5            0   \n",
       "14384  ...                        1             6            1   \n",
       "14433  ...                        2             0            2   \n",
       "14454  ...                        1             2            1   \n",
       "15246  ...                        0             4            0   \n",
       "16976  ...                        1             2            0   \n",
       "17097  ...                        2             3            0   \n",
       "\n",
       "      Best Performance  Avg_achievement_% Last_achievement_%  \\\n",
       "7279                 0                NaN                NaN   \n",
       "9187                 0                NaN                NaN   \n",
       "10732                0                NaN                NaN   \n",
       "11734                0                NaN                NaN   \n",
       "11769                0                NaN                NaN   \n",
       "12718                0                NaN                NaN   \n",
       "14384                0                NaN                NaN   \n",
       "14433                0                NaN                NaN   \n",
       "14454                0                NaN                NaN   \n",
       "15246                0                NaN                NaN   \n",
       "16976                0                NaN                NaN   \n",
       "17097                0                NaN                NaN   \n",
       "\n",
       "       Achievement_above_100%_during3quartal  achievement_target_1  \\\n",
       "7279                                     NaN                   NaN   \n",
       "9187                                     NaN                   NaN   \n",
       "10732                                    NaN                   NaN   \n",
       "11734                                    NaN                   NaN   \n",
       "11769                                    NaN                   NaN   \n",
       "12718                                    NaN                   NaN   \n",
       "14384                                    NaN                   NaN   \n",
       "14433                                    NaN                   NaN   \n",
       "14454                                    NaN                   NaN   \n",
       "15246                                    NaN                   NaN   \n",
       "16976                                    NaN                   NaN   \n",
       "17097                                    NaN                   NaN   \n",
       "\n",
       "       achievement_target_2  achievement_target_3  \n",
       "7279                    NaN                   NaN  \n",
       "9187                    NaN                   NaN  \n",
       "10732                   NaN                   NaN  \n",
       "11734                   NaN                   NaN  \n",
       "11769                   NaN                   NaN  \n",
       "12718                   NaN                   NaN  \n",
       "14384                   NaN                   NaN  \n",
       "14433                   NaN                   NaN  \n",
       "14454                   NaN                   NaN  \n",
       "15246                   NaN                   NaN  \n",
       "16976                   NaN                   NaN  \n",
       "17097                   NaN                   NaN  \n",
       "\n",
       "[12 rows x 30 columns]"
      ]
     },
     "execution_count": 19,
     "metadata": {},
     "output_type": "execute_result"
    }
   ],
   "source": [
    "type_pekerjaan = pd.isnull(data1[\"Employee_type\"])\n",
    "data1[type_pekerjaan]"
   ]
  },
  {
   "cell_type": "code",
   "execution_count": 20,
   "metadata": {},
   "outputs": [],
   "source": [
    "data1a = data1.copy()\n",
    "data2a = data2.copy()"
   ]
  },
  {
   "cell_type": "code",
   "execution_count": 21,
   "metadata": {},
   "outputs": [],
   "source": [
    "data1a[\"Employee_type\"].fillna(\"RM_type_B\", inplace=True)"
   ]
  },
  {
   "cell_type": "code",
   "execution_count": 22,
   "metadata": {},
   "outputs": [
    {
     "data": {
      "text/plain": [
       "RM_type_A    11030\n",
       "RM_type_B    10223\n",
       "RM_type_C      752\n",
       "Name: Employee_type, dtype: int64"
      ]
     },
     "execution_count": 22,
     "metadata": {},
     "output_type": "execute_result"
    }
   ],
   "source": [
    "data1a[\"Employee_type\"].value_counts()"
   ]
  },
  {
   "cell_type": "code",
   "execution_count": 23,
   "metadata": {},
   "outputs": [
    {
     "data": {
      "image/png": "[encoded data removed]",
      "text/plain": [
       "<Figure size 432x288 with 1 Axes>"
      ]
     },
     "metadata": {
      "needs_background": "light"
     },
     "output_type": "display_data"
    }
   ],
   "source": [
    "label = ['RM_type_A','RM_type_B','RM_type_C']\n",
    "sns.countplot(x = \"Employee_type\", data = data1a)\n",
    "plt.title(\"Tipe Pekerjaan (fig.1)\", fontsize=20)\n",
    "plt.show()\n"
   ]
  },
  {
   "cell_type": "code",
   "execution_count": 24,
   "metadata": {},
   "outputs": [
    {
     "data": {
      "image/png": "[encoded data removed]",
      "text/plain": [
       "<Figure size 864x720 with 1 Axes>"
      ]
     },
     "metadata": {},
     "output_type": "display_data"
    },
    {
     "name": "stdout",
     "output_type": "stream",
     "text": [
      "Total Jumlah Pekerja Berdasarkan Tipe Pekerjaan: \n",
      "\n",
      "RM_type_A    11030\n",
      "RM_type_B    10223\n",
      "RM_type_C      752\n",
      "Name: Employee_type, dtype: int64\n"
     ]
    }
   ],
   "source": [
    "val_data_train = data1a[\"Employee_type\"].value_counts()\n",
    "\n",
    "label = ['Mantri Kupedes','Mantri KUR','Mantri Briguna']\n",
    "explode = [0.04, 0, 0.1]\n",
    "\n",
    "plt.rcParams['figure.figsize']=(12,10)\n",
    "plt.title(\"Proporsi Tipe Pekerjaan\", fontsize=30)\n",
    "plt.pie(val_data_train, labels=label, explode=explode, shadow=True, autopct='%.2f%%')\n",
    "plt.legend()\n",
    "plt.show()\n",
    "\n",
    "\n",
    "print(\"Total Jumlah Pekerja Berdasarkan Tipe Pekerjaan: \\n\")\n",
    "print(val_data_train)"
   ]
  },
  {
   "cell_type": "code",
   "execution_count": 25,
   "metadata": {},
   "outputs": [
    {
     "data": {
      "text/plain": [
       "2055"
      ]
     },
     "execution_count": 25,
     "metadata": {},
     "output_type": "execute_result"
    }
   ],
   "source": [
    "data1a[\"job_duration_as_permanent_worker\"].isnull().sum()"
   ]
  },
  {
   "cell_type": "code",
   "execution_count": 26,
   "metadata": {},
   "outputs": [
    {
     "data": {
      "text/plain": [
       "0"
      ]
     },
     "execution_count": 26,
     "metadata": {},
     "output_type": "execute_result"
    }
   ],
   "source": [
    "data1a[\"job_duration_as_permanent_worker\"]=data1a[\"job_duration_as_permanent_worker\"].fillna(data1a[\"job_duration_as_permanent_worker\"].mean())\n",
    "data1a[\"job_duration_as_permanent_worker\"].isnull().sum()"
   ]
  },
  {
   "cell_type": "code",
   "execution_count": 27,
   "metadata": {},
   "outputs": [
    {
     "data": {
      "text/plain": [
       "3503"
      ]
     },
     "execution_count": 27,
     "metadata": {},
     "output_type": "execute_result"
    }
   ],
   "source": [
    "data1a[\"GPA\"].isnull().sum()"
   ]
  },
  {
   "cell_type": "code",
   "execution_count": 28,
   "metadata": {},
   "outputs": [
    {
     "data": {
      "text/plain": [
       "0"
      ]
     },
     "execution_count": 28,
     "metadata": {},
     "output_type": "execute_result"
    }
   ],
   "source": [
    "data1a[\"GPA\"]=data1a[\"GPA\"].fillna(data1a[\"GPA\"].mean())\n",
    "data1a[\"GPA\"].isnull().sum()"
   ]
  },
  {
   "cell_type": "code",
   "execution_count": 29,
   "metadata": {},
   "outputs": [
    {
     "data": {
      "text/plain": [
       "6289"
      ]
     },
     "execution_count": 29,
     "metadata": {},
     "output_type": "execute_result"
    }
   ],
   "source": [
    "data1a[\"Avg_achievement_%\"].isnull().sum()"
   ]
  },
  {
   "cell_type": "code",
   "execution_count": 30,
   "metadata": {},
   "outputs": [
    {
     "data": {
      "text/plain": [
       "0"
      ]
     },
     "execution_count": 30,
     "metadata": {},
     "output_type": "execute_result"
    }
   ],
   "source": [
    "data1a[\"Avg_achievement_%\"]=data1a[\"Avg_achievement_%\"].fillna(data1a[\"Avg_achievement_%\"].mean())\n",
    "data1a[\"Avg_achievement_%\"].isnull().sum()"
   ]
  },
  {
   "cell_type": "code",
   "execution_count": 31,
   "metadata": {},
   "outputs": [
    {
     "data": {
      "text/plain": [
       "6302"
      ]
     },
     "execution_count": 31,
     "metadata": {},
     "output_type": "execute_result"
    }
   ],
   "source": [
    "data1a[\"Last_achievement_%\"].isnull().sum()"
   ]
  },
  {
   "cell_type": "code",
   "execution_count": 32,
   "metadata": {},
   "outputs": [
    {
     "data": {
      "text/plain": [
       "0"
      ]
     },
     "execution_count": 32,
     "metadata": {},
     "output_type": "execute_result"
    }
   ],
   "source": [
    "data1a[\"Last_achievement_%\"]=data1a[\"Last_achievement_%\"].fillna(data1a[\"Last_achievement_%\"].mean())\n",
    "data1a[\"Last_achievement_%\"].isnull().sum()"
   ]
  },
  {
   "cell_type": "code",
   "execution_count": 33,
   "metadata": {},
   "outputs": [
    {
     "data": {
      "text/plain": [
       "6302"
      ]
     },
     "execution_count": 33,
     "metadata": {},
     "output_type": "execute_result"
    }
   ],
   "source": [
    "data1a[\"Achievement_above_100%_during3quartal\"].isnull().sum()"
   ]
  },
  {
   "cell_type": "code",
   "execution_count": 34,
   "metadata": {},
   "outputs": [
    {
     "data": {
      "text/plain": [
       "0"
      ]
     },
     "execution_count": 34,
     "metadata": {},
     "output_type": "execute_result"
    }
   ],
   "source": [
    "data1a[\"Achievement_above_100%_during3quartal\"]=data1a[\"Achievement_above_100%_during3quartal\"].fillna(data1a[\"Achievement_above_100%_during3quartal\"].mean())\n",
    "data1a[\"Achievement_above_100%_during3quartal\"].isnull().sum()"
   ]
  },
  {
   "cell_type": "code",
   "execution_count": 35,
   "metadata": {},
   "outputs": [
    {
     "data": {
      "text/plain": [
       "3503"
      ]
     },
     "execution_count": 35,
     "metadata": {},
     "output_type": "execute_result"
    }
   ],
   "source": [
    "data1a[\"year_graduated\"].isnull().sum()"
   ]
  },
  {
   "cell_type": "code",
   "execution_count": 36,
   "metadata": {},
   "outputs": [
    {
     "data": {
      "text/plain": [
       "0"
      ]
     },
     "execution_count": 36,
     "metadata": {},
     "output_type": "execute_result"
    }
   ],
   "source": [
    "data1a[\"year_graduated\"] = data1a[\"year_graduated\"].fillna(data1a[\"year_graduated\"].mode()[0])\n",
    "data1a[\"year_graduated\"].isnull().sum()"
   ]
  },
  {
   "cell_type": "code",
   "execution_count": 37,
   "metadata": {},
   "outputs": [
    {
     "data": {
      "text/plain": [
       "0"
      ]
     },
     "execution_count": 37,
     "metadata": {},
     "output_type": "execute_result"
    }
   ],
   "source": [
    "data1a[\"Education_level\"] = data1a[\"Education_level\"].fillna(data1a[\"Education_level\"].mode()[0])\n",
    "data1a[\"Education_level\"].isnull().sum()"
   ]
  },
  {
   "cell_type": "code",
   "execution_count": 38,
   "metadata": {},
   "outputs": [
    {
     "data": {
      "text/plain": [
       "6727"
      ]
     },
     "execution_count": 38,
     "metadata": {},
     "output_type": "execute_result"
    }
   ],
   "source": [
    "data1a[\"achievement_target_3\"].isnull().sum()"
   ]
  },
  {
   "cell_type": "code",
   "execution_count": 39,
   "metadata": {},
   "outputs": [
    {
     "data": {
      "text/plain": [
       "reached        10985\n",
       "not reached     4275\n",
       "not_reached       18\n",
       "Name: achievement_target_3, dtype: int64"
      ]
     },
     "execution_count": 39,
     "metadata": {},
     "output_type": "execute_result"
    }
   ],
   "source": [
    "data1a[\"achievement_target_3\"].value_counts()"
   ]
  },
  {
   "cell_type": "code",
   "execution_count": 40,
   "metadata": {},
   "outputs": [
    {
     "data": {
      "text/plain": [
       "not_reached    11020\n",
       "reached        10985\n",
       "Name: achievement_target_3, dtype: int64"
      ]
     },
     "execution_count": 40,
     "metadata": {},
     "output_type": "execute_result"
    }
   ],
   "source": [
    "data1a[\"achievement_target_3\"].fillna(\"not_reached\", inplace=True)\n",
    "data1a['achievement_target_3'] = data1a['achievement_target_3'].str.replace('not reached','not_reached')\n",
    "data1a[\"achievement_target_3\"].value_counts()"
   ]
  },
  {
   "cell_type": "code",
   "execution_count": 41,
   "metadata": {},
   "outputs": [
    {
     "data": {
      "text/plain": [
       "0"
      ]
     },
     "execution_count": 41,
     "metadata": {},
     "output_type": "execute_result"
    }
   ],
   "source": [
    "data1a[\"achievement_target_3\"].isnull().sum()"
   ]
  },
  {
   "cell_type": "code",
   "execution_count": 42,
   "metadata": {},
   "outputs": [
    {
     "data": {
      "text/plain": [
       "achiev_< 50%              8615\n",
       "achiev_50%-100%           2366\n",
       "Pencapaian < 50%          1542\n",
       "achiev_> 1.5               954\n",
       "achiev_100%-150%           925\n",
       "Pencapaian 50%-100%        484\n",
       "Tidak diberikan target     176\n",
       "Pencapaian 100%-150%       145\n",
       "Pencapaian > 1.5            71\n",
       "Name: achievement_target_2, dtype: int64"
      ]
     },
     "execution_count": 42,
     "metadata": {},
     "output_type": "execute_result"
    }
   ],
   "source": [
    "data1a[\"achievement_target_2\"].value_counts()"
   ]
  },
  {
   "cell_type": "code",
   "execution_count": 43,
   "metadata": {},
   "outputs": [
    {
     "data": {
      "text/plain": [
       "6727"
      ]
     },
     "execution_count": 43,
     "metadata": {},
     "output_type": "execute_result"
    }
   ],
   "source": [
    "data1a[\"achievement_target_2\"].isnull().sum()"
   ]
  },
  {
   "cell_type": "code",
   "execution_count": 44,
   "metadata": {},
   "outputs": [
    {
     "data": {
      "text/plain": [
       "0"
      ]
     },
     "execution_count": 44,
     "metadata": {},
     "output_type": "execute_result"
    }
   ],
   "source": [
    "data1a[\"achievement_target_2\"].fillna(\"achiev_100%-150%\", inplace=True)\n",
    "data1a[\"achievement_target_2\"].isnull().sum()"
   ]
  },
  {
   "cell_type": "code",
   "execution_count": 45,
   "metadata": {},
   "outputs": [
    {
     "data": {
      "text/plain": [
       "achiev_50%-100%           7679\n",
       "achiev_100%-150%          2519\n",
       "achiev_< 50%              2065\n",
       "Pencapaian 50%-100%       1531\n",
       "achiev_> 1.5               597\n",
       "Pencapaian 100%-150%       485\n",
       "Tidak diberikan target     178\n",
       "Pencapaian < 50%           175\n",
       "Pencapaian > 1.5            49\n",
       "Name: achievement_target_1, dtype: int64"
      ]
     },
     "execution_count": 45,
     "metadata": {},
     "output_type": "execute_result"
    }
   ],
   "source": [
    "data1a[\"achievement_target_1\"].value_counts()"
   ]
  },
  {
   "cell_type": "code",
   "execution_count": 46,
   "metadata": {},
   "outputs": [
    {
     "data": {
      "text/plain": [
       "0"
      ]
     },
     "execution_count": 46,
     "metadata": {},
     "output_type": "execute_result"
    }
   ],
   "source": [
    "data1a[\"achievement_target_1\"].fillna(\"achiev_50%-100%\", inplace=True)\n",
    "data1a[\"achievement_target_1\"].isnull().sum()"
   ]
  },
  {
   "cell_type": "code",
   "execution_count": 47,
   "metadata": {},
   "outputs": [
    {
     "data": {
      "text/plain": [
       "reached        4342\n",
       "not_reached    1658\n",
       "Name: achievement_target_3, dtype: int64"
      ]
     },
     "execution_count": 47,
     "metadata": {},
     "output_type": "execute_result"
    }
   ],
   "source": [
    "data2a[\"achievement_target_3\"].fillna(\"not_reached\", inplace=True)\n",
    "data2a['achievement_target_3'] = data2a['achievement_target_3'].str.replace('not reached','not_reached')\n",
    "data2a[\"achievement_target_3\"].value_counts()"
   ]
  },
  {
   "cell_type": "code",
   "execution_count": 48,
   "metadata": {},
   "outputs": [],
   "source": [
    "df_train = data1a.copy()\n",
    "df_test = data2a.copy()"
   ]
  },
  {
   "cell_type": "code",
   "execution_count": 49,
   "metadata": {},
   "outputs": [
    {
     "data": {
      "text/plain": [
       "Index(['job_level', 'job_duration_in_current_job_level', 'person_level',\n",
       "       'job_duration_in_current_person_level',\n",
       "       'job_duration_in_current_branch', 'Employee_type', 'Employee_status',\n",
       "       'gender', 'age', 'marital_status_maried(Y/N)', 'number_of_dependences',\n",
       "       'number_of_dependences (male)', 'number_of_dependences (female)',\n",
       "       'Education_level', 'GPA', 'year_graduated',\n",
       "       'job_duration_as_permanent_worker', 'job_duration_from_training',\n",
       "       'branch_rotation', 'job_rotation', 'assign_of_otherposition',\n",
       "       'annual leave', 'sick_leaves', 'Best Performance', 'Avg_achievement_%',\n",
       "       'Last_achievement_%', 'Achievement_above_100%_during3quartal',\n",
       "       'achievement_target_1', 'achievement_target_2', 'achievement_target_3'],\n",
       "      dtype='object')"
      ]
     },
     "execution_count": 49,
     "metadata": {},
     "output_type": "execute_result"
    }
   ],
   "source": [
    "df_train.columns"
   ]
  },
  {
   "cell_type": "code",
   "execution_count": 50,
   "metadata": {},
   "outputs": [
    {
     "data": {
      "text/html": [
       "<div>\n",
       "<style scoped>\n",
       "    .dataframe tbody tr th:only-of-type {\n",
       "        vertical-align: middle;\n",
       "    }\n",
       "\n",
       "    .dataframe tbody tr th {\n",
       "        vertical-align: top;\n",
       "    }\n",
       "\n",
       "    .dataframe thead th {\n",
       "        text-align: right;\n",
       "    }\n",
       "</style>\n",
       "<table border=\"1\" class=\"dataframe\">\n",
       "  <thead>\n",
       "    <tr style=\"text-align: right;\">\n",
       "      <th></th>\n",
       "      <th>job_level</th>\n",
       "      <th>job_duration_in_current_job_level</th>\n",
       "      <th>person_level</th>\n",
       "      <th>job_duration_in_current_person_level</th>\n",
       "      <th>job_duration_in_current_branch</th>\n",
       "      <th>Employee_type</th>\n",
       "      <th>Employee_status</th>\n",
       "      <th>gender</th>\n",
       "      <th>age</th>\n",
       "      <th>marital_status_maried(Y/N)</th>\n",
       "      <th>...</th>\n",
       "      <th>assign_of_otherposition</th>\n",
       "      <th>annual leave</th>\n",
       "      <th>sick_leaves</th>\n",
       "      <th>Best Performance</th>\n",
       "      <th>Avg_achievement_%</th>\n",
       "      <th>Last_achievement_%</th>\n",
       "      <th>Achievement_above_100%_during3quartal</th>\n",
       "      <th>achievement_target_1</th>\n",
       "      <th>achievement_target_2</th>\n",
       "      <th>achievement_target_3</th>\n",
       "    </tr>\n",
       "  </thead>\n",
       "  <tbody>\n",
       "    <tr>\n",
       "      <th>0</th>\n",
       "      <td>JG05</td>\n",
       "      <td>8.00</td>\n",
       "      <td>PG06</td>\n",
       "      <td>8.00</td>\n",
       "      <td>0.50</td>\n",
       "      <td>RM_type_A</td>\n",
       "      <td>Permanent</td>\n",
       "      <td>Female</td>\n",
       "      <td>1964</td>\n",
       "      <td>Y</td>\n",
       "      <td>...</td>\n",
       "      <td>0</td>\n",
       "      <td>8</td>\n",
       "      <td>0</td>\n",
       "      <td>0</td>\n",
       "      <td>68.85</td>\n",
       "      <td>72.53</td>\n",
       "      <td>0.0</td>\n",
       "      <td>achiev_50%-100%</td>\n",
       "      <td>achiev_&lt; 50%</td>\n",
       "      <td>reached</td>\n",
       "    </tr>\n",
       "    <tr>\n",
       "      <th>1</th>\n",
       "      <td>JG04</td>\n",
       "      <td>5.17</td>\n",
       "      <td>PG04</td>\n",
       "      <td>2.00</td>\n",
       "      <td>1.25</td>\n",
       "      <td>RM_type_A</td>\n",
       "      <td>Permanent</td>\n",
       "      <td>Male</td>\n",
       "      <td>1979</td>\n",
       "      <td>Y</td>\n",
       "      <td>...</td>\n",
       "      <td>9</td>\n",
       "      <td>3</td>\n",
       "      <td>0</td>\n",
       "      <td>0</td>\n",
       "      <td>94.81</td>\n",
       "      <td>101.13</td>\n",
       "      <td>3.0</td>\n",
       "      <td>achiev_50%-100%</td>\n",
       "      <td>achiev_50%-100%</td>\n",
       "      <td>reached</td>\n",
       "    </tr>\n",
       "    <tr>\n",
       "      <th>2</th>\n",
       "      <td>JG04</td>\n",
       "      <td>1.83</td>\n",
       "      <td>PG03</td>\n",
       "      <td>1.83</td>\n",
       "      <td>1.50</td>\n",
       "      <td>RM_type_A</td>\n",
       "      <td>Permanent</td>\n",
       "      <td>Male</td>\n",
       "      <td>1980</td>\n",
       "      <td>Y</td>\n",
       "      <td>...</td>\n",
       "      <td>0</td>\n",
       "      <td>6</td>\n",
       "      <td>0</td>\n",
       "      <td>0</td>\n",
       "      <td>72.82</td>\n",
       "      <td>71.30</td>\n",
       "      <td>0.0</td>\n",
       "      <td>achiev_100%-150%</td>\n",
       "      <td>achiev_&lt; 50%</td>\n",
       "      <td>not_reached</td>\n",
       "    </tr>\n",
       "    <tr>\n",
       "      <th>3</th>\n",
       "      <td>JG04</td>\n",
       "      <td>7.92</td>\n",
       "      <td>PG04</td>\n",
       "      <td>4.00</td>\n",
       "      <td>0.17</td>\n",
       "      <td>RM_type_A</td>\n",
       "      <td>Permanent</td>\n",
       "      <td>Male</td>\n",
       "      <td>1984</td>\n",
       "      <td>Y</td>\n",
       "      <td>...</td>\n",
       "      <td>0</td>\n",
       "      <td>3</td>\n",
       "      <td>0</td>\n",
       "      <td>0</td>\n",
       "      <td>86.89</td>\n",
       "      <td>90.09</td>\n",
       "      <td>2.0</td>\n",
       "      <td>achiev_50%-100%</td>\n",
       "      <td>achiev_50%-100%</td>\n",
       "      <td>not_reached</td>\n",
       "    </tr>\n",
       "    <tr>\n",
       "      <th>4</th>\n",
       "      <td>JG04</td>\n",
       "      <td>1.83</td>\n",
       "      <td>PG03</td>\n",
       "      <td>1.83</td>\n",
       "      <td>2.08</td>\n",
       "      <td>RM_type_A</td>\n",
       "      <td>Permanent</td>\n",
       "      <td>Male</td>\n",
       "      <td>1984</td>\n",
       "      <td>Y</td>\n",
       "      <td>...</td>\n",
       "      <td>11</td>\n",
       "      <td>2</td>\n",
       "      <td>1</td>\n",
       "      <td>1</td>\n",
       "      <td>95.17</td>\n",
       "      <td>100.72</td>\n",
       "      <td>2.0</td>\n",
       "      <td>achiev_&lt; 50%</td>\n",
       "      <td>achiev_&gt; 1.5</td>\n",
       "      <td>not_reached</td>\n",
       "    </tr>\n",
       "  </tbody>\n",
       "</table>\n",
       "<p>5 rows × 30 columns</p>\n",
       "</div>"
      ],
      "text/plain": [
       "  job_level  job_duration_in_current_job_level person_level  \\\n",
       "0      JG05                               8.00         PG06   \n",
       "1      JG04                               5.17         PG04   \n",
       "2      JG04                               1.83         PG03   \n",
       "3      JG04                               7.92         PG04   \n",
       "4      JG04                               1.83         PG03   \n",
       "\n",
       "   job_duration_in_current_person_level  job_duration_in_current_branch  \\\n",
       "0                                  8.00                            0.50   \n",
       "1                                  2.00                            1.25   \n",
       "2                                  1.83                            1.50   \n",
       "3                                  4.00                            0.17   \n",
       "4                                  1.83                            2.08   \n",
       "\n",
       "  Employee_type Employee_status  gender   age marital_status_maried(Y/N)  ...  \\\n",
       "0     RM_type_A       Permanent  Female  1964                          Y  ...   \n",
       "1     RM_type_A       Permanent    Male  1979                          Y  ...   \n",
       "2     RM_type_A       Permanent    Male  1980                          Y  ...   \n",
       "3     RM_type_A       Permanent    Male  1984                          Y  ...   \n",
       "4     RM_type_A       Permanent    Male  1984                          Y  ...   \n",
       "\n",
       "   assign_of_otherposition  annual leave  sick_leaves Best Performance  \\\n",
       "0                        0             8            0                0   \n",
       "1                        9             3            0                0   \n",
       "2                        0             6            0                0   \n",
       "3                        0             3            0                0   \n",
       "4                       11             2            1                1   \n",
       "\n",
       "   Avg_achievement_% Last_achievement_%  \\\n",
       "0              68.85              72.53   \n",
       "1              94.81             101.13   \n",
       "2              72.82              71.30   \n",
       "3              86.89              90.09   \n",
       "4              95.17             100.72   \n",
       "\n",
       "   Achievement_above_100%_during3quartal  achievement_target_1  \\\n",
       "0                                    0.0       achiev_50%-100%   \n",
       "1                                    3.0       achiev_50%-100%   \n",
       "2                                    0.0      achiev_100%-150%   \n",
       "3                                    2.0       achiev_50%-100%   \n",
       "4                                    2.0          achiev_< 50%   \n",
       "\n",
       "   achievement_target_2  achievement_target_3  \n",
       "0          achiev_< 50%               reached  \n",
       "1       achiev_50%-100%               reached  \n",
       "2          achiev_< 50%           not_reached  \n",
       "3       achiev_50%-100%           not_reached  \n",
       "4          achiev_> 1.5           not_reached  \n",
       "\n",
       "[5 rows x 30 columns]"
      ]
     },
     "execution_count": 50,
     "metadata": {},
     "output_type": "execute_result"
    }
   ],
   "source": [
    "df_train.head()"
   ]
  },
  {
   "cell_type": "code",
   "execution_count": 51,
   "metadata": {},
   "outputs": [
    {
     "data": {
      "text/html": [
       "<div>\n",
       "<style scoped>\n",
       "    .dataframe tbody tr th:only-of-type {\n",
       "        vertical-align: middle;\n",
       "    }\n",
       "\n",
       "    .dataframe tbody tr th {\n",
       "        vertical-align: top;\n",
       "    }\n",
       "\n",
       "    .dataframe thead th {\n",
       "        text-align: right;\n",
       "    }\n",
       "</style>\n",
       "<table border=\"1\" class=\"dataframe\">\n",
       "  <thead>\n",
       "    <tr style=\"text-align: right;\">\n",
       "      <th></th>\n",
       "      <th>age</th>\n",
       "      <th>job_duration_in_current_person_level</th>\n",
       "      <th>job_duration_from_training</th>\n",
       "      <th>Avg_achievement_%</th>\n",
       "      <th>Avg_achievement_%</th>\n",
       "    </tr>\n",
       "  </thead>\n",
       "  <tbody>\n",
       "    <tr>\n",
       "      <th>0</th>\n",
       "      <td>1964</td>\n",
       "      <td>8.00</td>\n",
       "      <td>30</td>\n",
       "      <td>68.85</td>\n",
       "      <td>68.85</td>\n",
       "    </tr>\n",
       "    <tr>\n",
       "      <th>1</th>\n",
       "      <td>1979</td>\n",
       "      <td>2.00</td>\n",
       "      <td>16</td>\n",
       "      <td>94.81</td>\n",
       "      <td>94.81</td>\n",
       "    </tr>\n",
       "    <tr>\n",
       "      <th>2</th>\n",
       "      <td>1980</td>\n",
       "      <td>1.83</td>\n",
       "      <td>15</td>\n",
       "      <td>72.82</td>\n",
       "      <td>72.82</td>\n",
       "    </tr>\n",
       "    <tr>\n",
       "      <th>3</th>\n",
       "      <td>1984</td>\n",
       "      <td>4.00</td>\n",
       "      <td>8</td>\n",
       "      <td>86.89</td>\n",
       "      <td>86.89</td>\n",
       "    </tr>\n",
       "    <tr>\n",
       "      <th>4</th>\n",
       "      <td>1984</td>\n",
       "      <td>1.83</td>\n",
       "      <td>7</td>\n",
       "      <td>95.17</td>\n",
       "      <td>95.17</td>\n",
       "    </tr>\n",
       "  </tbody>\n",
       "</table>\n",
       "</div>"
      ],
      "text/plain": [
       "    age  job_duration_in_current_person_level  job_duration_from_training  \\\n",
       "0  1964                                  8.00                          30   \n",
       "1  1979                                  2.00                          16   \n",
       "2  1980                                  1.83                          15   \n",
       "3  1984                                  4.00                           8   \n",
       "4  1984                                  1.83                           7   \n",
       "\n",
       "   Avg_achievement_%  Avg_achievement_%  \n",
       "0              68.85              68.85  \n",
       "1              94.81              94.81  \n",
       "2              72.82              72.82  \n",
       "3              86.89              86.89  \n",
       "4              95.17              95.17  "
      ]
     },
     "execution_count": 51,
     "metadata": {},
     "output_type": "execute_result"
    }
   ],
   "source": [
    "df_train[[\"age\",\"job_duration_in_current_person_level\",\"job_duration_from_training\",\"Avg_achievement_%\",\"Avg_achievement_%\"]].head()"
   ]
  },
  {
   "cell_type": "code",
   "execution_count": 52,
   "metadata": {},
   "outputs": [],
   "source": [
    "from sklearn.preprocessing import LabelEncoder\n",
    "\n",
    "labelEncoder = LabelEncoder()\n",
    "\n",
    "df_train[\"job_level\"] = labelEncoder.fit_transform(df_train[[\"job_level\"]].values.ravel())\n",
    "df_test[\"job_level\"] = labelEncoder.fit_transform(df_test[[\"job_level\"]].values.ravel())\n",
    "\n",
    "df_train[\"person_level\"] = labelEncoder.fit_transform(df_train[[\"person_level\"]].values.ravel())\n",
    "df_test[\"person_level\"] = labelEncoder.fit_transform(df_test[[\"person_level\"]].values.ravel())\n",
    "\n",
    "df_train[\"Employee_type\"] = labelEncoder.fit_transform(df_train[[\"Employee_type\"]].values.ravel())\n",
    "df_test[\"Employee_type\"] = labelEncoder.fit_transform(df_test[[\"Employee_type\"]].values.ravel())\n",
    "\n",
    "df_train[\"Employee_status\"] = labelEncoder.fit_transform(df_train[[\"Employee_status\"]].values.ravel())\n",
    "df_test[\"Employee_status\"] = labelEncoder.fit_transform(df_test[[\"Employee_status\"]].values.ravel())\n",
    "\n",
    "df_train[\"gender\"] = labelEncoder.fit_transform(df_train[[\"gender\"]].values.ravel())\n",
    "df_test[\"gender\"] = labelEncoder.fit_transform(df_test[[\"gender\"]].values.ravel())\n",
    "\n",
    "df_train[\"number_of_dependences\"] = labelEncoder.fit_transform(df_train[[\"number_of_dependences\"]].values.ravel())\n",
    "df_test[\"number_of_dependences\"] = labelEncoder.fit_transform(df_test[[\"number_of_dependences\"]].values.ravel())\n",
    "\n",
    "\n",
    "df_train[\"Education_level\"] = labelEncoder.fit_transform(df_train[[\"Education_level\"]].values.ravel())\n",
    "df_test[\"Education_level\"] = labelEncoder.fit_transform(df_test[[\"Education_level\"]].values.ravel())\n",
    "\n",
    "df_train[\"marital_status_maried(Y/N)\"] = labelEncoder.fit_transform(df_train[[\"marital_status_maried(Y/N)\"]].values.ravel())\n",
    "df_test[\"marital_status_maried(Y/N)\"] = labelEncoder.fit_transform(df_test[[\"marital_status_maried(Y/N)\"]].values.ravel())\n",
    "\n",
    "df_train[\"year_graduated\"] = labelEncoder.fit_transform(df_train[[\"year_graduated\"]].values.ravel())\n",
    "df_test[\"year_graduated\"] = labelEncoder.fit_transform(df_test[[\"year_graduated\"]].values.ravel())\n",
    "\n",
    "df_train[\"achievement_target_1\"] = labelEncoder.fit_transform(df_train[[\"achievement_target_1\"]].values.ravel())\n",
    "df_test[\"achievement_target_1\"] = labelEncoder.fit_transform(df_test[[\"achievement_target_1\"]].values.ravel())\n",
    "\n",
    "df_train[\"achievement_target_2\"] = labelEncoder.fit_transform(df_train[[\"achievement_target_2\"]].values.ravel())\n",
    "df_test[\"achievement_target_2\"] = labelEncoder.fit_transform(df_test[[\"achievement_target_2\"]].values.ravel())\n",
    "\n",
    "df_train[\"achievement_target_3\"] = labelEncoder.fit_transform(df_train[[\"achievement_target_3\"]].values.ravel())\n",
    "df_test[\"achievement_target_3\"] = labelEncoder.fit_transform(df_test[[\"achievement_target_3\"]].values.ravel())"
   ]
  },
  {
   "cell_type": "code",
   "execution_count": null,
   "metadata": {},
   "outputs": [],
   "source": []
  },
  {
   "cell_type": "code",
   "execution_count": 53,
   "metadata": {},
   "outputs": [],
   "source": [
    "# X=df_train.drop(columns=\"achievement_target_3\")\n",
    "# y=df_train.achievement_target_3\n",
    "# X=pd.get_dummies(X, columns=[\"achievement_target_1\",\"achievement_target_2\"])"
   ]
  },
  {
   "cell_type": "code",
   "execution_count": 54,
   "metadata": {},
   "outputs": [],
   "source": [
    "# from sklearn.model_selection import train_test_split\n",
    "# X_train, X_test, y_train, y_test = train_test_split(\n",
    "#     X, y,\n",
    "#     test_size = 0.25,\n",
    "#     random_state = 0\n",
    "# )"
   ]
  },
  {
   "cell_type": "code",
   "execution_count": 55,
   "metadata": {},
   "outputs": [],
   "source": [
    "# from sklearn import svm\n",
    "# svm_model = svm.SVC(kernel='linear', C=1.5)\n",
    "# svm_model.fit(X_train, y_train)\n",
    "# svm_model.score(X_train, y_train)"
   ]
  },
  {
   "cell_type": "code",
   "execution_count": 56,
   "metadata": {},
   "outputs": [],
   "source": [
    "# pred=svm_model.predict(X_test)\n",
    "# pred[0:5]"
   ]
  },
  {
   "cell_type": "code",
   "execution_count": null,
   "metadata": {},
   "outputs": [],
   "source": []
  },
  {
   "cell_type": "code",
   "execution_count": 57,
   "metadata": {},
   "outputs": [
    {
     "name": "stdout",
     "output_type": "stream",
     "text": [
      "job_level                                0.276477\n",
      "job_duration_in_current_job_level        0.238795\n",
      "person_level                             0.255295\n",
      "job_duration_in_current_person_level     0.316725\n",
      "job_duration_in_current_branch           0.173602\n",
      "Employee_type                           -0.176557\n",
      "Employee_status                          0.320438\n",
      "gender                                  -0.020887\n",
      "age                                     -0.227028\n",
      "marital_status_maried(Y/N)               0.293313\n",
      "number_of_dependences                    0.234995\n",
      "number_of_dependences (male)             0.164592\n",
      "number_of_dependences (female)           0.163156\n",
      "Education_level                          0.002716\n",
      "GPA                                      0.015617\n",
      "year_graduated                          -0.106431\n",
      "job_duration_as_permanent_worker         0.177208\n",
      "job_duration_from_training               0.249291\n",
      "branch_rotation                          0.242994\n",
      "job_rotation                             0.271280\n",
      "assign_of_otherposition                  0.100792\n",
      "annual leave                             0.341365\n",
      "sick_leaves                              0.069805\n",
      "Best Performance                         0.068810\n",
      "Avg_achievement_%                        0.109770\n",
      "Last_achievement_%                       0.149928\n",
      "Achievement_above_100%_during3quartal    0.087636\n",
      "achievement_target_1                    -0.112155\n",
      "achievement_target_2                     0.177568\n",
      "achievement_target_3                     1.000000\n",
      "Name: achievement_target_3, dtype: float64\n"
     ]
    },
    {
     "data": {
      "image/png": "[encoded data removed]",
      "text/plain": [
       "<Figure size 864x720 with 1 Axes>"
      ]
     },
     "metadata": {
      "needs_background": "light"
     },
     "output_type": "display_data"
    },
    {
     "data": {
      "text/plain": [
       "<Figure size 864x720 with 0 Axes>"
      ]
     },
     "metadata": {},
     "output_type": "display_data"
    }
   ],
   "source": [
    "print(df_train.corr()['achievement_target_3'])\n",
    "plt.barh(np.arange(len(df_train.corr()['achievement_target_3'])), df_train.corr()['achievement_target_3'],align = 'center',tick_label = df_train.columns)\n",
    "plt.xlim((-1,1))\n",
    "plt.grid(axis='x')\n",
    "plt.title('Pearson Correlation of features with response')\n",
    "plt.show()\n",
    "\n",
    "plt.clf()"
   ]
  },
  {
   "cell_type": "code",
   "execution_count": 58,
   "metadata": {},
   "outputs": [],
   "source": [
    "df_train.drop(df_train[['Achievement_above_100%_during3quartal','Best Performance',\n",
    "                      'sick_leaves','GPA','Education_level','gender']], axis=1, inplace=True)"
   ]
  },
  {
   "cell_type": "code",
   "execution_count": 59,
   "metadata": {},
   "outputs": [
    {
     "data": {
      "text/plain": [
       "Index(['job_level', 'job_duration_in_current_job_level', 'person_level',\n",
       "       'job_duration_in_current_person_level',\n",
       "       'job_duration_in_current_branch', 'Employee_type', 'Employee_status',\n",
       "       'age', 'marital_status_maried(Y/N)', 'number_of_dependences',\n",
       "       'number_of_dependences (male)', 'number_of_dependences (female)',\n",
       "       'year_graduated', 'job_duration_as_permanent_worker',\n",
       "       'job_duration_from_training', 'branch_rotation', 'job_rotation',\n",
       "       'assign_of_otherposition', 'annual leave', 'Avg_achievement_%',\n",
       "       'Last_achievement_%', 'achievement_target_1', 'achievement_target_2',\n",
       "       'achievement_target_3'],\n",
       "      dtype='object')"
      ]
     },
     "execution_count": 59,
     "metadata": {},
     "output_type": "execute_result"
    }
   ],
   "source": [
    "df_train.columns"
   ]
  },
  {
   "cell_type": "markdown",
   "metadata": {},
   "source": [
    "memilih fitur dengan nilai korelasi tinggi"
   ]
  },
  {
   "cell_type": "code",
   "execution_count": 60,
   "metadata": {},
   "outputs": [],
   "source": [
    "# df_train==df_train[['job_level', 'job_duration_in_current_job_level', 'person_level',\n",
    "#        'job_duration_in_current_person_level',\n",
    "#        'job_duration_in_current_branch', 'Employee_type', 'Employee_status','age', 'marital_status_maried(Y/N)', 'number_of_dependences',\n",
    "#        'number_of_dependences (male)', 'number_of_dependences (female)', 'year_graduated',\n",
    "#        'job_duration_as_permanent_worker', 'job_duration_from_training',\n",
    "#        'branch_rotation', 'job_rotation','annual leave','Avg_achievement_%',\n",
    "#        'Last_achievement_%','achievement_target_1', 'achievement_target_2', 'achievement_target_3']]\n",
    "# df_train.columns"
   ]
  },
  {
   "cell_type": "code",
   "execution_count": 61,
   "metadata": {},
   "outputs": [
    {
     "name": "stderr",
     "output_type": "stream",
     "text": [
      "/home/eken/miniconda3/envs/tf-gpu/lib/python3.8/site-packages/seaborn/_decorators.py:36: FutureWarning: Pass the following variable as a keyword arg: x. From version 0.12, the only valid positional argument will be `data`, and passing other arguments without an explicit keyword will result in an error or misinterpretation.\n",
      "  warnings.warn(\n",
      "/home/eken/miniconda3/envs/tf-gpu/lib/python3.8/site-packages/seaborn/_decorators.py:36: FutureWarning: Pass the following variable as a keyword arg: x. From version 0.12, the only valid positional argument will be `data`, and passing other arguments without an explicit keyword will result in an error or misinterpretation.\n",
      "  warnings.warn(\n",
      "/home/eken/miniconda3/envs/tf-gpu/lib/python3.8/site-packages/seaborn/_decorators.py:36: FutureWarning: Pass the following variable as a keyword arg: x. From version 0.12, the only valid positional argument will be `data`, and passing other arguments without an explicit keyword will result in an error or misinterpretation.\n",
      "  warnings.warn(\n",
      "/home/eken/miniconda3/envs/tf-gpu/lib/python3.8/site-packages/seaborn/_decorators.py:36: FutureWarning: Pass the following variable as a keyword arg: x. From version 0.12, the only valid positional argument will be `data`, and passing other arguments without an explicit keyword will result in an error or misinterpretation.\n",
      "  warnings.warn(\n",
      "/home/eken/miniconda3/envs/tf-gpu/lib/python3.8/site-packages/seaborn/_decorators.py:36: FutureWarning: Pass the following variable as a keyword arg: x. From version 0.12, the only valid positional argument will be `data`, and passing other arguments without an explicit keyword will result in an error or misinterpretation.\n",
      "  warnings.warn(\n",
      "/home/eken/miniconda3/envs/tf-gpu/lib/python3.8/site-packages/seaborn/_decorators.py:36: FutureWarning: Pass the following variable as a keyword arg: x. From version 0.12, the only valid positional argument will be `data`, and passing other arguments without an explicit keyword will result in an error or misinterpretation.\n",
      "  warnings.warn(\n"
     ]
    },
    {
     "data": {
      "image/png": "[encoded data removed]",
      "text/plain": [
       "<Figure size 1080x720 with 6 Axes>"
      ]
     },
     "metadata": {
      "needs_background": "light"
     },
     "output_type": "display_data"
    }
   ],
   "source": [
    "cat_var=['job_level', 'job_duration_in_current_job_level', 'person_level',\n",
    "       'job_duration_in_current_person_level',\n",
    "       'job_duration_in_current_branch', 'Employee_type']\n",
    "fig, axes=plt.subplots(2, 3, figsize=(15, 10))\n",
    "\n",
    "for cat, ax in zip(cat_var, axes.flatten()):\n",
    "    sns.countplot(cat, data=df_train, hue=\"achievement_target_3\", ax=ax)\n"
   ]
  },
  {
   "cell_type": "code",
   "execution_count": 62,
   "metadata": {},
   "outputs": [],
   "source": [
    "# X = df_train.drop(['achievement_target_3'],axis=1)\n",
    "# y = df_train['achievement_target_3']\n",
    "# sc = StandardScaler()\n",
    "# X = sc.fit_transform(X)\n",
    "# rfc = SVC(n_estimators=1000, random_state=0)\n",
    "\n",
    "# rfc.fit(X, y)\n",
    "\n",
    "\n",
    "# importances = rfc.feature_importances_\n",
    "\n",
    "# print(df_train.drop('achievement_target_3', axis=1).columns)\n",
    "\n",
    "# plt.barh(np.arange(len(df_train.drop('achievement_target_3', axis=1).columns)), importances,align = 'center',tick_label = df_train.drop('achievement_target_3', axis=1).columns)\n",
    "# plt.xlim((0,0.5))\n",
    "# plt.grid(axis='x')\n",
    "# plt.title('SVM importances')\n",
    "# plt.show()\n",
    "\n",
    "# plt.clf()"
   ]
  },
  {
   "cell_type": "code",
   "execution_count": 63,
   "metadata": {},
   "outputs": [
    {
     "data": {
      "image/png": "[encoded data removed]",
      "text/plain": [
       "<Figure size 720x720 with 2 Axes>"
      ]
     },
     "metadata": {
      "needs_background": "light"
     },
     "output_type": "display_data"
    },
    {
     "data": {
      "text/plain": [
       "<Figure size 864x720 with 0 Axes>"
      ]
     },
     "metadata": {},
     "output_type": "display_data"
    }
   ],
   "source": [
    "plt.figure(figsize=(10,10))\n",
    "sns.heatmap(df_train.corr(), vmin=-1, vmax=1, cmap='seismic', annot=True)\n",
    "plt.title('Correlation matrix')\n",
    "plt.yticks(rotation=0)\n",
    "plt.show()\n",
    "plt.clf()"
   ]
  },
  {
   "cell_type": "code",
   "execution_count": null,
   "metadata": {},
   "outputs": [],
   "source": []
  },
  {
   "cell_type": "code",
   "execution_count": 64,
   "metadata": {},
   "outputs": [
    {
     "data": {
      "image/png": "[encoded data removed]",
      "text/plain": [
       "<Figure size 864x720 with 1 Axes>"
      ]
     },
     "metadata": {
      "needs_background": "light"
     },
     "output_type": "display_data"
    },
    {
     "data": {
      "text/plain": [
       "<Figure size 864x720 with 0 Axes>"
      ]
     },
     "metadata": {},
     "output_type": "display_data"
    }
   ],
   "source": [
    "plt.scatter(df_train.loc[df_train['achievement_target_3'] == 0]['age'],df_train.loc[df_train['achievement_target_3'] == 0]['Last_achievement_%'], color='blue')\n",
    "plt.scatter(df_train.loc[df_train['achievement_target_3'] == 1]['age'],df_train.loc[df_train['achievement_target_3'] == 1]['Last_achievement_%'], color='red')\n",
    "plt.legend(['achievement_target_3=1','achievement_target_3=0'])\n",
    "plt.xlabel('age')\n",
    "plt.ylabel('Last_achievement_%')\n",
    "plt.show()\n",
    "plt.clf()"
   ]
  },
  {
   "cell_type": "code",
   "execution_count": 77,
   "metadata": {},
   "outputs": [],
   "source": [
    "from sklearn.model_selection import train_test_split\n",
    "from sklearn.pipeline import Pipeline\n",
    "from sklearn.compose import ColumnTransformer\n",
    "\n",
    "from jcopml.pipeline import num_pipe, cat_pipe\n",
    "from jcopml.utils import save_model, load_model\n",
    "from jcopml.plot import plot_missing_value\n",
    "from jcopml.feature_importance import mean_score_decrease\n",
    "from sklearn.svm import SVC\n",
    "from sklearn.model_selection import GridSearchCV\n",
    "from jcopml.tuning import grid_search_params as gsp"
   ]
  },
  {
   "cell_type": "code",
   "execution_count": 78,
   "metadata": {},
   "outputs": [
    {
     "data": {
      "text/plain": [
       "((17604, 23), (4401, 23), (17604,), (4401,))"
      ]
     },
     "execution_count": 78,
     "metadata": {},
     "output_type": "execute_result"
    }
   ],
   "source": [
    "X = df_train.drop(columns=\"achievement_target_3\")\n",
    "y = df_train.achievement_target_3\n",
    "X_train, X_test, y_train, y_test = train_test_split(X, y, test_size=0.2, stratify=y, random_state=42)\n",
    "X_train.shape, X_test.shape, y_train.shape, y_test.shape"
   ]
  },
  {
   "cell_type": "code",
   "execution_count": null,
   "metadata": {
    "scrolled": true
   },
   "outputs": [
    {
     "name": "stdout",
     "output_type": "stream",
     "text": [
      "Fitting 4 folds for each of 49 candidates, totalling 196 fits\n"
     ]
    },
    {
     "name": "stderr",
     "output_type": "stream",
     "text": [
      "[Parallel(n_jobs=-1)]: Using backend LokyBackend with 4 concurrent workers.\n"
     ]
    }
   ],
   "source": [
    "preprocessor = ColumnTransformer([\n",
    "    ('numeric', num_pipe(scaling=\"robust\"), [\"job_duration_in_current_job_level\",\"job_duration_in_current_person_level\",\"job_duration_in_current_branch\",\n",
    "                            \"age\",\"number_of_dependences\",\"number_of_dependences (male)\",\"number_of_dependences (female)\",\"year_graduated\",\n",
    "                            \"job_duration_as_permanent_worker\",\"job_duration_from_training\",\"branch_rotation\",\"job_rotation\",\n",
    "                            \"assign_of_otherposition\",\"annual leave\"]),\n",
    "    ('categoric', cat_pipe(encoder='onehot'), [\"job_level\",\"person_level\",\"Employee_type\",\"achievement_target_1\",\n",
    "                                               \"achievement_target_2\",\"marital_status_maried(Y/N)\",\"Employee_status\"]),\n",
    "])\n",
    "\n",
    "\n",
    "\n",
    "pipeline = Pipeline([\n",
    "    ('prep', preprocessor),\n",
    "    ('algo', SVC(max_iter=500))\n",
    "])\n",
    "\n",
    "\n",
    "\n",
    "model = GridSearchCV(pipeline, gsp.svm_params, cv=4, n_jobs=-1, verbose=1)\n",
    "model.fit(X_train, y_train)\n",
    "\n",
    "print(model.best_params_)\n",
    "print(model.score(X_train, y_train), model.best_score_, model.score(X_test, y_test))"
   ]
  },
  {
   "cell_type": "code",
   "execution_count": null,
   "metadata": {},
   "outputs": [],
   "source": [
    "print('Best F1 score = ' + str(grid.best_score_)+ 'at')\n",
    "print(grid.best_params_)"
   ]
  }
 ],
 "metadata": {
  "kernelspec": {
   "display_name": "Python 3",
   "language": "python",
   "name": "python3"
  },
  "language_info": {
   "codemirror_mode": {
    "name": "ipython",
    "version": 3
   },
   "file_extension": ".py",
   "mimetype": "text/x-python",
   "name": "python",
   "nbconvert_exporter": "python",
   "pygments_lexer": "ipython3",
   "version": "3.8.5"
  }
 },
 "nbformat": 4,
 "nbformat_minor": 4
}
